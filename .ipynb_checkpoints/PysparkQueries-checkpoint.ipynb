{
 "cells": [
  {
   "cell_type": "code",
   "execution_count": 73,
   "id": "25f62239-8962-4b2f-aeeb-d50119122252",
   "metadata": {},
   "outputs": [
    {
     "data": {
      "text/html": [
       "<table border='1'>\n",
       "<tr><th>ID</th><th>Case Number</th><th>Date</th><th>Block</th><th>IUCR</th><th>Primary Type</th><th>Description</th><th>Location Description</th><th>Arrest</th><th>Domestic</th><th>Beat</th><th>District</th><th>Ward</th><th>Community Area</th><th>FBI Code</th><th>Year</th><th>Updated On</th><th>DISTRICT NAME</th><th>ADDRESS</th><th>CITY</th><th>STATE</th><th>ZIP</th><th>WEBSITE</th><th>PHONE</th><th>FAX</th><th>TTY</th><th>X COORDINATE</th><th>Y COORDINATE</th><th>LATITUDE</th><th>LONGITUDE</th><th>LOCATION</th></tr>\n",
       "<tr><td>11646293</td><td>JC213749</td><td>12/20/2018 03:00:...</td><td>023XX N LOCKWOOD AVE</td><td>1154</td><td>DECEPTIVE PRACTICE</td><td>FINANCIAL IDENTIT...</td><td>APARTMENT</td><td>false</td><td>false</td><td>2515</td><td>25</td><td>36.0</td><td>19</td><td>11</td><td>2018</td><td>04/06/2019 04:04:...</td><td>Grand Central</td><td>5555 W Grand Ave</td><td>Chicago</td><td>IL</td><td>60639.0</td><td>http://home.chica...</td><td>312-746-8605</td><td>312-746-4353</td><td>312-746-8383</td><td>1138770.871</td><td>1913442.439</td><td>41.91860889</td><td>-87.76557448</td><td>(41.9186088912, -...</td></tr>\n",
       "<tr><td>11645959</td><td>JC211511</td><td>12/20/2018 04:00:...</td><td>045XX N ALBANY AVE</td><td>2820</td><td>OTHER OFFENSE</td><td>TELEPHONE THREAT</td><td>RESIDENCE</td><td>false</td><td>false</td><td>1724</td><td>17</td><td>33.0</td><td>14</td><td>08A</td><td>2018</td><td>04/06/2019 04:04:...</td><td>Albany Park</td><td>4650 N Pulaski Rd</td><td>Chicago</td><td>IL</td><td>60630.0</td><td>http://home.chica...</td><td>312-742-4410</td><td>312-742-5411</td><td>312-742-5451</td><td>1148843.91</td><td>1930801.058</td><td>41.96605342</td><td>-87.72811456</td><td>(41.9660534171, -...</td></tr>\n",
       "<tr><td>11646166</td><td>JC213529</td><td>09/01/2018 12:01:...</td><td>082XX S INGLESIDE...</td><td>0810</td><td>THEFT</td><td>OVER $500</td><td>RESIDENCE</td><td>false</td><td>true</td><td>631</td><td>6</td><td>8.0</td><td>44</td><td>06</td><td>2018</td><td>04/06/2019 04:04:...</td><td>Gresham</td><td>7808 S Halsted St</td><td>Chicago</td><td>IL</td><td>60620.0</td><td>http://home.chica...</td><td>312-745-3617</td><td>312-745-3649</td><td>312-745-3639</td><td>1172283.013</td><td>1853022.646</td><td>41.75213684</td><td>-87.64422891</td><td>(41.7521368378, -...</td></tr>\n",
       "<tr><td>11645648</td><td>JC212959</td><td>01/01/2018 08:00:...</td><td>024XX N MONITOR AVE</td><td>1153</td><td>DECEPTIVE PRACTICE</td><td>FINANCIAL IDENTIT...</td><td>RESIDENCE</td><td>false</td><td>false</td><td>2515</td><td>25</td><td>30.0</td><td>19</td><td>11</td><td>2018</td><td>04/06/2019 04:04:...</td><td>Grand Central</td><td>5555 W Grand Ave</td><td>Chicago</td><td>IL</td><td>60639.0</td><td>http://home.chica...</td><td>312-746-8605</td><td>312-746-4353</td><td>312-746-8383</td><td>1138770.871</td><td>1913442.439</td><td>41.91860889</td><td>-87.76557448</td><td>(41.9186088912, -...</td></tr>\n",
       "<tr><td>11645557</td><td>JC212685</td><td>04/01/2018 12:01:...</td><td>080XX S VERNON AVE</td><td>1153</td><td>DECEPTIVE PRACTICE</td><td>FINANCIAL IDENTIT...</td><td>RESIDENCE</td><td>false</td><td>false</td><td>631</td><td>6</td><td>6.0</td><td>44</td><td>11</td><td>2018</td><td>04/06/2019 04:04:...</td><td>Gresham</td><td>7808 S Halsted St</td><td>Chicago</td><td>IL</td><td>60620.0</td><td>http://home.chica...</td><td>312-745-3617</td><td>312-745-3649</td><td>312-745-3639</td><td>1172283.013</td><td>1853022.646</td><td>41.75213684</td><td>-87.64422891</td><td>(41.7521368378, -...</td></tr>\n",
       "<tr><td>11645568</td><td>JC212803</td><td>12/18/2018 11:00:...</td><td>032XX N WILTON AVE</td><td>1153</td><td>DECEPTIVE PRACTICE</td><td>FINANCIAL IDENTIT...</td><td>RESIDENCE</td><td>false</td><td>false</td><td>1924</td><td>19</td><td>44.0</td><td>6</td><td>11</td><td>2018</td><td>04/06/2019 04:04:...</td><td>Town Hall</td><td>850 W Addison St</td><td>Chicago</td><td>IL</td><td>60613.0</td><td>http://home.chica...</td><td>312-744-8320</td><td>312-744-4481</td><td>312-744-8011</td><td>1169730.744</td><td>1924160.317</td><td>41.94740046</td><td>-87.65151202</td><td>(41.9474004564, -...</td></tr>\n",
       "<tr><td>11641400</td><td>JC207897</td><td>07/26/2018 01:00:...</td><td>041XX N KEELER AVE</td><td>1130</td><td>DECEPTIVE PRACTICE</td><td>FRAUD OR CONFIDEN...</td><td>RESIDENCE</td><td>false</td><td>false</td><td>1722</td><td>17</td><td>39.0</td><td>16</td><td>11</td><td>2018</td><td>04/02/2019 04:10:...</td><td>Albany Park</td><td>4650 N Pulaski Rd</td><td>Chicago</td><td>IL</td><td>60630.0</td><td>http://home.chica...</td><td>312-742-4410</td><td>312-742-5411</td><td>312-742-5451</td><td>1148843.91</td><td>1930801.058</td><td>41.96605342</td><td>-87.72811456</td><td>(41.9660534171, -...</td></tr>\n",
       "<tr><td>11646766</td><td>JC214025</td><td>01/01/2018 09:10:...</td><td>019XX N KENMORE AVE</td><td>1153</td><td>DECEPTIVE PRACTICE</td><td>FINANCIAL IDENTIT...</td><td>NULL</td><td>false</td><td>false</td><td>1811</td><td>18</td><td>43.0</td><td>7</td><td>11</td><td>2018</td><td>04/07/2019 04:05:...</td><td>Near North</td><td>1160 N Larrabee St</td><td>Chicago</td><td>IL</td><td>60610.0</td><td>http://home.chica...</td><td>312-742-5870</td><td>312-742-5771</td><td>312-742-5773</td><td>1172080.029</td><td>1908086.527</td><td>41.90324165</td><td>-87.64335214</td><td>(41.9032416531, -...</td></tr>\n",
       "<tr><td>11646550</td><td>JC214099</td><td>10/04/2018 12:00:...</td><td>092XX S PERRY AVE</td><td>1120</td><td>DECEPTIVE PRACTICE</td><td>FORGERY</td><td>OTHER</td><td>false</td><td>false</td><td>634</td><td>6</td><td>21.0</td><td>49</td><td>10</td><td>2018</td><td>04/07/2019 04:05:...</td><td>Gresham</td><td>7808 S Halsted St</td><td>Chicago</td><td>IL</td><td>60620.0</td><td>http://home.chica...</td><td>312-745-3617</td><td>312-745-3649</td><td>312-745-3639</td><td>1172283.013</td><td>1853022.646</td><td>41.75213684</td><td>-87.64422891</td><td>(41.7521368378, -...</td></tr>\n",
       "<tr><td>11647549</td><td>JC214237</td><td>06/07/2018 03:00:...</td><td>102XX S EGGLESTON...</td><td>0820</td><td>THEFT</td><td>$500 AND UNDER</td><td>OTHER</td><td>false</td><td>false</td><td>2232</td><td>22</td><td>9.0</td><td>73</td><td>06</td><td>2018</td><td>04/09/2019 04:17:...</td><td>Morgan Park</td><td>1900 W Monterey Ave</td><td>Chicago</td><td>IL</td><td>60643.0</td><td>http://home.chica...</td><td>312-745-0710</td><td>312-745-0814</td><td>312-745-0569</td><td>1165825.476</td><td>1830851.333</td><td>41.69143478</td><td>-87.66852039</td><td>(41.6914347795, -...</td></tr>\n",
       "<tr><td>11646393</td><td>JC213889</td><td>12/01/2018 08:00:...</td><td>026XX W 25TH ST</td><td>1153</td><td>DECEPTIVE PRACTICE</td><td>FINANCIAL IDENTIT...</td><td>RESIDENCE</td><td>false</td><td>false</td><td>1034</td><td>10</td><td>24.0</td><td>30</td><td>11</td><td>2018</td><td>04/07/2019 04:05:...</td><td>Ogden</td><td>3315 W Ogden Ave</td><td>Chicago</td><td>IL</td><td>60623.0</td><td>http://home.chica...</td><td>312-747-7511</td><td>312-747-7429</td><td>312-747-7471</td><td>1154500.753</td><td>1890985.501</td><td>41.85668453</td><td>-87.70838196</td><td>(41.8566845327, -...</td></tr>\n",
       "<tr><td>11647523</td><td>JC215281</td><td>11/11/2018 12:01:...</td><td>016XX W WALLEN AVE</td><td>1140</td><td>DECEPTIVE PRACTICE</td><td>EMBEZZLEMENT</td><td>APARTMENT</td><td>false</td><td>false</td><td>2432</td><td>24</td><td>49.0</td><td>1</td><td>12</td><td>2018</td><td>04/08/2019 04:19:...</td><td>Rogers Park</td><td>6464 N Clark St</td><td>Chicago</td><td>IL</td><td>60626.0</td><td>http://home.chica...</td><td>312-744-5907</td><td>312-744-6928</td><td>312-744-7603</td><td>1164193.588</td><td>1943199.401</td><td>41.99976348</td><td>-87.67132429</td><td>(41.9997634842, -...</td></tr>\n",
       "<tr><td>11648173</td><td>JC216048</td><td>11/01/2018 12:00:...</td><td>062XX S MARSHFIEL...</td><td>1153</td><td>DECEPTIVE PRACTICE</td><td>FINANCIAL IDENTIT...</td><td>APARTMENT</td><td>false</td><td>false</td><td>714</td><td>7</td><td>16.0</td><td>67</td><td>11</td><td>2018</td><td>04/08/2019 04:19:...</td><td>Englewood</td><td>1438 W 63rd St</td><td>Chicago</td><td>IL</td><td>60636.0</td><td>http://home.chica...</td><td>312-747-8223</td><td>312-747-6558</td><td>312-747-6652</td><td>1167659.235</td><td>1863005.522</td><td>41.77963154</td><td>-87.66088702</td><td>(41.7796315359, -...</td></tr>\n",
       "<tr><td>11445072</td><td>JB415614</td><td>08/30/2018 07:45:...</td><td>031XX W HARRISON ST</td><td>2027</td><td>NARCOTICS</td><td>POSS: CRACK</td><td>POLICE FACILITY/V...</td><td>true</td><td>false</td><td>1134</td><td>11</td><td>24.0</td><td>27</td><td>18</td><td>2018</td><td>04/13/2019 03:55:...</td><td>Harrison</td><td>3151 W Harrison St</td><td>Chicago</td><td>IL</td><td>60612.0</td><td>http://home.chica...</td><td>312-746-8386</td><td>312-746-4281</td><td>312-746-5151</td><td>1155244.069</td><td>1897148.755</td><td>41.87358229</td><td>-87.70548813</td><td>(41.8735822883, -...</td></tr>\n",
       "<tr><td>11645849</td><td>JC209353</td><td>11/27/2018 08:43:...</td><td>0000X E CERMAK RD</td><td>2250</td><td>LIQUOR LAW VIOLATION</td><td>LIQUOR LICENSE VI...</td><td>TAVERN/LIQUOR STORE</td><td>true</td><td>false</td><td>131</td><td>1</td><td>3.0</td><td>33</td><td>22</td><td>2018</td><td>04/09/2019 04:17:...</td><td>Central</td><td>1718 S State St</td><td>Chicago</td><td>IL</td><td>60616.0</td><td>http://home.chica...</td><td>312-745-4290</td><td>312-745-3694</td><td>312-745-3693</td><td>1176569.052</td><td>1891771.704</td><td>41.85837259</td><td>-87.62735617</td><td>(41.8583725929, -...</td></tr>\n",
       "<tr><td>11451058</td><td>JB397122</td><td>08/17/2018 10:15:...</td><td>038XX W MONROE ST</td><td>2014</td><td>NARCOTICS</td><td>MANU/DELIVER: HER...</td><td>VEHICLE NON-COMME...</td><td>true</td><td>false</td><td>1122</td><td>11</td><td>28.0</td><td>26</td><td>18</td><td>2018</td><td>04/09/2019 04:24:...</td><td>Harrison</td><td>3151 W Harrison St</td><td>Chicago</td><td>IL</td><td>60612.0</td><td>http://home.chica...</td><td>312-746-8386</td><td>312-746-4281</td><td>312-746-5151</td><td>1155244.069</td><td>1897148.755</td><td>41.87358229</td><td>-87.70548813</td><td>(41.8735822883, -...</td></tr>\n",
       "<tr><td>11648485</td><td>JC216504</td><td>11/01/2018 12:00:...</td><td>076XX S PAXTON AVE</td><td>1130</td><td>DECEPTIVE PRACTICE</td><td>FRAUD OR CONFIDEN...</td><td>RESIDENCE</td><td>false</td><td>false</td><td>414</td><td>4</td><td>8.0</td><td>43</td><td>11</td><td>2018</td><td>04/09/2019 04:24:...</td><td>South Chicago</td><td>2255 E 103rd St</td><td>Chicago</td><td>IL</td><td>60617.0</td><td>http://home.chica...</td><td>312-747-7581</td><td>312-747-5276</td><td>312-747-9169</td><td>1193131.299</td><td>1837090.265</td><td>41.70793329</td><td>-87.56834912</td><td>(41.7079332906, -...</td></tr>\n",
       "<tr><td>11649199</td><td>JC217367</td><td>11/23/2018 08:00:...</td><td>070XX N WESTERN AVE</td><td>1153</td><td>DECEPTIVE PRACTICE</td><td>FINANCIAL IDENTIT...</td><td>SMALL RETAIL STORE</td><td>false</td><td>false</td><td>2411</td><td>24</td><td>50.0</td><td>2</td><td>11</td><td>2018</td><td>04/09/2019 04:24:...</td><td>Rogers Park</td><td>6464 N Clark St</td><td>Chicago</td><td>IL</td><td>60626.0</td><td>http://home.chica...</td><td>312-744-5907</td><td>312-744-6928</td><td>312-744-7603</td><td>1164193.588</td><td>1943199.401</td><td>41.99976348</td><td>-87.67132429</td><td>(41.9997634842, -...</td></tr>\n",
       "<tr><td>11649227</td><td>JC217417</td><td>12/26/2018 01:00:...</td><td>073XX N RIDGE BLVD</td><td>0810</td><td>THEFT</td><td>OVER $500</td><td>RESIDENCE</td><td>false</td><td>false</td><td>2424</td><td>24</td><td>49.0</td><td>1</td><td>06</td><td>2018</td><td>04/09/2019 04:24:...</td><td>Rogers Park</td><td>6464 N Clark St</td><td>Chicago</td><td>IL</td><td>60626.0</td><td>http://home.chica...</td><td>312-744-5907</td><td>312-744-6928</td><td>312-744-7603</td><td>1164193.588</td><td>1943199.401</td><td>41.99976348</td><td>-87.67132429</td><td>(41.9997634842, -...</td></tr>\n",
       "<tr><td>11649962</td><td>JC218252</td><td>01/16/2018 10:25:...</td><td>087XX S BISHOP ST</td><td>1153</td><td>DECEPTIVE PRACTICE</td><td>FINANCIAL IDENTIT...</td><td>NULL</td><td>false</td><td>false</td><td>2222</td><td>22</td><td>21.0</td><td>71</td><td>11</td><td>2018</td><td>04/10/2019 04:14:...</td><td>Morgan Park</td><td>1900 W Monterey Ave</td><td>Chicago</td><td>IL</td><td>60643.0</td><td>http://home.chica...</td><td>312-745-0710</td><td>312-745-0814</td><td>312-745-0569</td><td>1165825.476</td><td>1830851.333</td><td>41.69143478</td><td>-87.66852039</td><td>(41.6914347795, -...</td></tr>\n",
       "</table>\n",
       "only showing top 20 rows\n"
      ],
      "text/plain": [
       "+--------+-----------+--------------------+--------------------+----+--------------------+--------------------+--------------------+------+--------+----+--------+----+--------------+--------+----+--------------------+-------------+-------------------+-------+-----+-------+--------------------+------------+------------+------------+------------+------------+-----------+------------+--------------------+\n",
       "|      ID|Case Number|                Date|               Block|IUCR|        Primary Type|         Description|Location Description|Arrest|Domestic|Beat|District|Ward|Community Area|FBI Code|Year|          Updated On|DISTRICT NAME|            ADDRESS|   CITY|STATE|    ZIP|             WEBSITE|       PHONE|         FAX|         TTY|X COORDINATE|Y COORDINATE|   LATITUDE|   LONGITUDE|            LOCATION|\n",
       "+--------+-----------+--------------------+--------------------+----+--------------------+--------------------+--------------------+------+--------+----+--------+----+--------------+--------+----+--------------------+-------------+-------------------+-------+-----+-------+--------------------+------------+------------+------------+------------+------------+-----------+------------+--------------------+\n",
       "|11646293|   JC213749|12/20/2018 03:00:...|023XX N LOCKWOOD AVE|1154|  DECEPTIVE PRACTICE|FINANCIAL IDENTIT...|           APARTMENT| false|   false|2515|      25|36.0|            19|      11|2018|04/06/2019 04:04:...|Grand Central|   5555 W Grand Ave|Chicago|   IL|60639.0|http://home.chica...|312-746-8605|312-746-4353|312-746-8383| 1138770.871| 1913442.439|41.91860889|-87.76557448|(41.9186088912, -...|\n",
       "|11645959|   JC211511|12/20/2018 04:00:...|  045XX N ALBANY AVE|2820|       OTHER OFFENSE|    TELEPHONE THREAT|           RESIDENCE| false|   false|1724|      17|33.0|            14|     08A|2018|04/06/2019 04:04:...|  Albany Park|  4650 N Pulaski Rd|Chicago|   IL|60630.0|http://home.chica...|312-742-4410|312-742-5411|312-742-5451|  1148843.91| 1930801.058|41.96605342|-87.72811456|(41.9660534171, -...|\n",
       "|11646166|   JC213529|09/01/2018 12:01:...|082XX S INGLESIDE...|0810|               THEFT|           OVER $500|           RESIDENCE| false|    true| 631|       6| 8.0|            44|      06|2018|04/06/2019 04:04:...|      Gresham|  7808 S Halsted St|Chicago|   IL|60620.0|http://home.chica...|312-745-3617|312-745-3649|312-745-3639| 1172283.013| 1853022.646|41.75213684|-87.64422891|(41.7521368378, -...|\n",
       "|11645648|   JC212959|01/01/2018 08:00:...| 024XX N MONITOR AVE|1153|  DECEPTIVE PRACTICE|FINANCIAL IDENTIT...|           RESIDENCE| false|   false|2515|      25|30.0|            19|      11|2018|04/06/2019 04:04:...|Grand Central|   5555 W Grand Ave|Chicago|   IL|60639.0|http://home.chica...|312-746-8605|312-746-4353|312-746-8383| 1138770.871| 1913442.439|41.91860889|-87.76557448|(41.9186088912, -...|\n",
       "|11645557|   JC212685|04/01/2018 12:01:...|  080XX S VERNON AVE|1153|  DECEPTIVE PRACTICE|FINANCIAL IDENTIT...|           RESIDENCE| false|   false| 631|       6| 6.0|            44|      11|2018|04/06/2019 04:04:...|      Gresham|  7808 S Halsted St|Chicago|   IL|60620.0|http://home.chica...|312-745-3617|312-745-3649|312-745-3639| 1172283.013| 1853022.646|41.75213684|-87.64422891|(41.7521368378, -...|\n",
       "|11645568|   JC212803|12/18/2018 11:00:...|  032XX N WILTON AVE|1153|  DECEPTIVE PRACTICE|FINANCIAL IDENTIT...|           RESIDENCE| false|   false|1924|      19|44.0|             6|      11|2018|04/06/2019 04:04:...|    Town Hall|   850 W Addison St|Chicago|   IL|60613.0|http://home.chica...|312-744-8320|312-744-4481|312-744-8011| 1169730.744| 1924160.317|41.94740046|-87.65151202|(41.9474004564, -...|\n",
       "|11641400|   JC207897|07/26/2018 01:00:...|  041XX N KEELER AVE|1130|  DECEPTIVE PRACTICE|FRAUD OR CONFIDEN...|           RESIDENCE| false|   false|1722|      17|39.0|            16|      11|2018|04/02/2019 04:10:...|  Albany Park|  4650 N Pulaski Rd|Chicago|   IL|60630.0|http://home.chica...|312-742-4410|312-742-5411|312-742-5451|  1148843.91| 1930801.058|41.96605342|-87.72811456|(41.9660534171, -...|\n",
       "|11646766|   JC214025|01/01/2018 09:10:...| 019XX N KENMORE AVE|1153|  DECEPTIVE PRACTICE|FINANCIAL IDENTIT...|                NULL| false|   false|1811|      18|43.0|             7|      11|2018|04/07/2019 04:05:...|   Near North| 1160 N Larrabee St|Chicago|   IL|60610.0|http://home.chica...|312-742-5870|312-742-5771|312-742-5773| 1172080.029| 1908086.527|41.90324165|-87.64335214|(41.9032416531, -...|\n",
       "|11646550|   JC214099|10/04/2018 12:00:...|   092XX S PERRY AVE|1120|  DECEPTIVE PRACTICE|             FORGERY|               OTHER| false|   false| 634|       6|21.0|            49|      10|2018|04/07/2019 04:05:...|      Gresham|  7808 S Halsted St|Chicago|   IL|60620.0|http://home.chica...|312-745-3617|312-745-3649|312-745-3639| 1172283.013| 1853022.646|41.75213684|-87.64422891|(41.7521368378, -...|\n",
       "|11647549|   JC214237|06/07/2018 03:00:...|102XX S EGGLESTON...|0820|               THEFT|      $500 AND UNDER|               OTHER| false|   false|2232|      22| 9.0|            73|      06|2018|04/09/2019 04:17:...|  Morgan Park|1900 W Monterey Ave|Chicago|   IL|60643.0|http://home.chica...|312-745-0710|312-745-0814|312-745-0569| 1165825.476| 1830851.333|41.69143478|-87.66852039|(41.6914347795, -...|\n",
       "|11646393|   JC213889|12/01/2018 08:00:...|     026XX W 25TH ST|1153|  DECEPTIVE PRACTICE|FINANCIAL IDENTIT...|           RESIDENCE| false|   false|1034|      10|24.0|            30|      11|2018|04/07/2019 04:05:...|        Ogden|   3315 W Ogden Ave|Chicago|   IL|60623.0|http://home.chica...|312-747-7511|312-747-7429|312-747-7471| 1154500.753| 1890985.501|41.85668453|-87.70838196|(41.8566845327, -...|\n",
       "|11647523|   JC215281|11/11/2018 12:01:...|  016XX W WALLEN AVE|1140|  DECEPTIVE PRACTICE|        EMBEZZLEMENT|           APARTMENT| false|   false|2432|      24|49.0|             1|      12|2018|04/08/2019 04:19:...|  Rogers Park|    6464 N Clark St|Chicago|   IL|60626.0|http://home.chica...|312-744-5907|312-744-6928|312-744-7603| 1164193.588| 1943199.401|41.99976348|-87.67132429|(41.9997634842, -...|\n",
       "|11648173|   JC216048|11/01/2018 12:00:...|062XX S MARSHFIEL...|1153|  DECEPTIVE PRACTICE|FINANCIAL IDENTIT...|           APARTMENT| false|   false| 714|       7|16.0|            67|      11|2018|04/08/2019 04:19:...|    Englewood|     1438 W 63rd St|Chicago|   IL|60636.0|http://home.chica...|312-747-8223|312-747-6558|312-747-6652| 1167659.235| 1863005.522|41.77963154|-87.66088702|(41.7796315359, -...|\n",
       "|11445072|   JB415614|08/30/2018 07:45:...| 031XX W HARRISON ST|2027|           NARCOTICS|         POSS: CRACK|POLICE FACILITY/V...|  true|   false|1134|      11|24.0|            27|      18|2018|04/13/2019 03:55:...|     Harrison| 3151 W Harrison St|Chicago|   IL|60612.0|http://home.chica...|312-746-8386|312-746-4281|312-746-5151| 1155244.069| 1897148.755|41.87358229|-87.70548813|(41.8735822883, -...|\n",
       "|11645849|   JC209353|11/27/2018 08:43:...|   0000X E CERMAK RD|2250|LIQUOR LAW VIOLATION|LIQUOR LICENSE VI...| TAVERN/LIQUOR STORE|  true|   false| 131|       1| 3.0|            33|      22|2018|04/09/2019 04:17:...|      Central|    1718 S State St|Chicago|   IL|60616.0|http://home.chica...|312-745-4290|312-745-3694|312-745-3693| 1176569.052| 1891771.704|41.85837259|-87.62735617|(41.8583725929, -...|\n",
       "|11451058|   JB397122|08/17/2018 10:15:...|   038XX W MONROE ST|2014|           NARCOTICS|MANU/DELIVER: HER...|VEHICLE NON-COMME...|  true|   false|1122|      11|28.0|            26|      18|2018|04/09/2019 04:24:...|     Harrison| 3151 W Harrison St|Chicago|   IL|60612.0|http://home.chica...|312-746-8386|312-746-4281|312-746-5151| 1155244.069| 1897148.755|41.87358229|-87.70548813|(41.8735822883, -...|\n",
       "|11648485|   JC216504|11/01/2018 12:00:...|  076XX S PAXTON AVE|1130|  DECEPTIVE PRACTICE|FRAUD OR CONFIDEN...|           RESIDENCE| false|   false| 414|       4| 8.0|            43|      11|2018|04/09/2019 04:24:...|South Chicago|    2255 E 103rd St|Chicago|   IL|60617.0|http://home.chica...|312-747-7581|312-747-5276|312-747-9169| 1193131.299| 1837090.265|41.70793329|-87.56834912|(41.7079332906, -...|\n",
       "|11649199|   JC217367|11/23/2018 08:00:...| 070XX N WESTERN AVE|1153|  DECEPTIVE PRACTICE|FINANCIAL IDENTIT...|  SMALL RETAIL STORE| false|   false|2411|      24|50.0|             2|      11|2018|04/09/2019 04:24:...|  Rogers Park|    6464 N Clark St|Chicago|   IL|60626.0|http://home.chica...|312-744-5907|312-744-6928|312-744-7603| 1164193.588| 1943199.401|41.99976348|-87.67132429|(41.9997634842, -...|\n",
       "|11649227|   JC217417|12/26/2018 01:00:...|  073XX N RIDGE BLVD|0810|               THEFT|           OVER $500|           RESIDENCE| false|   false|2424|      24|49.0|             1|      06|2018|04/09/2019 04:24:...|  Rogers Park|    6464 N Clark St|Chicago|   IL|60626.0|http://home.chica...|312-744-5907|312-744-6928|312-744-7603| 1164193.588| 1943199.401|41.99976348|-87.67132429|(41.9997634842, -...|\n",
       "|11649962|   JC218252|01/16/2018 10:25:...|   087XX S BISHOP ST|1153|  DECEPTIVE PRACTICE|FINANCIAL IDENTIT...|                NULL| false|   false|2222|      22|21.0|            71|      11|2018|04/10/2019 04:14:...|  Morgan Park|1900 W Monterey Ave|Chicago|   IL|60643.0|http://home.chica...|312-745-0710|312-745-0814|312-745-0569| 1165825.476| 1830851.333|41.69143478|-87.66852039|(41.6914347795, -...|\n",
       "+--------+-----------+--------------------+--------------------+----+--------------------+--------------------+--------------------+------+--------+----+--------+----+--------------+--------+----+--------------------+-------------+-------------------+-------+-----+-------+--------------------+------------+------------+------------+------------+------------+-----------+------------+--------------------+\n",
       "only showing top 20 rows"
      ]
     },
     "execution_count": 73,
     "metadata": {},
     "output_type": "execute_result"
    }
   ],
   "source": [
    "from pyspark.sql import SparkSession\n",
    "\n",
    "spark = SparkSession.builder.appName(\"Read CSV with PySpark\").getOrCreate()\n",
    "spark = SparkSession.builder.config(\"spark.sql.repl.eagerEval.enabled\", True).getOrCreate() \n",
    "\n",
    "df_presque_final = spark.read.csv(\"data/crime_station.csv\", header=True, inferSchema=True)\n",
    "\n",
    "df_presque_final"
   ]
  },
  {
   "cell_type": "code",
   "execution_count": 74,
   "id": "9208624d-7aa1-42dc-ab9a-e542d205c530",
   "metadata": {},
   "outputs": [
    {
     "data": {
      "text/plain": [
       "['ID',\n",
       " 'Case Number',\n",
       " 'Date',\n",
       " 'Block',\n",
       " 'IUCR',\n",
       " 'Primary Type',\n",
       " 'Description',\n",
       " 'Location Description',\n",
       " 'Arrest',\n",
       " 'Domestic',\n",
       " 'Beat',\n",
       " 'District',\n",
       " 'Ward',\n",
       " 'Community Area',\n",
       " 'FBI Code',\n",
       " 'Year',\n",
       " 'Updated On',\n",
       " 'DISTRICT NAME',\n",
       " 'ADDRESS',\n",
       " 'CITY',\n",
       " 'STATE',\n",
       " 'ZIP',\n",
       " 'WEBSITE',\n",
       " 'PHONE',\n",
       " 'FAX',\n",
       " 'TTY',\n",
       " 'X COORDINATE',\n",
       " 'Y COORDINATE',\n",
       " 'LATITUDE',\n",
       " 'LONGITUDE',\n",
       " 'LOCATION']"
      ]
     },
     "execution_count": 74,
     "metadata": {},
     "output_type": "execute_result"
    }
   ],
   "source": [
    "df_presque_final.columns"
   ]
  },
  {
   "cell_type": "code",
   "execution_count": 75,
   "id": "a8fd3b47-5fd3-4b07-9dec-cffd1e5b7e79",
   "metadata": {},
   "outputs": [
    {
     "name": "stdout",
     "output_type": "stream",
     "text": [
      "root\n",
      " |-- ID: integer (nullable = true)\n",
      " |-- Case Number: string (nullable = true)\n",
      " |-- Date: string (nullable = true)\n",
      " |-- Block: string (nullable = true)\n",
      " |-- IUCR: string (nullable = true)\n",
      " |-- Primary Type: string (nullable = true)\n",
      " |-- Description: string (nullable = true)\n",
      " |-- Location Description: string (nullable = true)\n",
      " |-- Arrest: boolean (nullable = true)\n",
      " |-- Domestic: boolean (nullable = true)\n",
      " |-- Beat: integer (nullable = true)\n",
      " |-- District: integer (nullable = true)\n",
      " |-- Ward: double (nullable = true)\n",
      " |-- Community Area: integer (nullable = true)\n",
      " |-- FBI Code: string (nullable = true)\n",
      " |-- Year: integer (nullable = true)\n",
      " |-- Updated On: string (nullable = true)\n",
      " |-- DISTRICT NAME: string (nullable = true)\n",
      " |-- ADDRESS: string (nullable = true)\n",
      " |-- CITY: string (nullable = true)\n",
      " |-- STATE: string (nullable = true)\n",
      " |-- ZIP: double (nullable = true)\n",
      " |-- WEBSITE: string (nullable = true)\n",
      " |-- PHONE: string (nullable = true)\n",
      " |-- FAX: string (nullable = true)\n",
      " |-- TTY: string (nullable = true)\n",
      " |-- X COORDINATE: double (nullable = true)\n",
      " |-- Y COORDINATE: double (nullable = true)\n",
      " |-- LATITUDE: double (nullable = true)\n",
      " |-- LONGITUDE: double (nullable = true)\n",
      " |-- LOCATION: string (nullable = true)\n",
      "\n"
     ]
    }
   ],
   "source": [
    "type(df_presque_final)\n",
    "\n",
    "# Types des variables\n",
    "df_presque_final.printSchema()"
   ]
  },
  {
   "cell_type": "code",
   "execution_count": 77,
   "id": "dc6bd91d-cfca-4b69-a4cf-f2a177a77dd1",
   "metadata": {},
   "outputs": [
    {
     "name": "stdout",
     "output_type": "stream",
     "text": [
      "root\n",
      " |-- ID: integer (nullable = true)\n",
      " |-- Case Number: string (nullable = true)\n",
      " |-- Date: timestamp (nullable = true)\n",
      " |-- Block: string (nullable = true)\n",
      " |-- IUCR: string (nullable = true)\n",
      " |-- Primary Type: string (nullable = true)\n",
      " |-- Description: string (nullable = true)\n",
      " |-- Location Description: string (nullable = true)\n",
      " |-- Arrest: boolean (nullable = true)\n",
      " |-- Domestic: boolean (nullable = true)\n",
      " |-- Beat: integer (nullable = true)\n",
      " |-- District: integer (nullable = true)\n",
      " |-- Ward: double (nullable = true)\n",
      " |-- Community Area: integer (nullable = true)\n",
      " |-- FBI Code: string (nullable = true)\n",
      " |-- Year: integer (nullable = true)\n",
      " |-- Updated On: string (nullable = true)\n",
      " |-- DISTRICT NAME: string (nullable = true)\n",
      " |-- ADDRESS: string (nullable = true)\n",
      " |-- CITY: string (nullable = true)\n",
      " |-- STATE: string (nullable = true)\n",
      " |-- ZIP: double (nullable = true)\n",
      " |-- WEBSITE: string (nullable = true)\n",
      " |-- PHONE: string (nullable = true)\n",
      " |-- FAX: string (nullable = true)\n",
      " |-- TTY: string (nullable = true)\n",
      " |-- X COORDINATE: double (nullable = true)\n",
      " |-- Y COORDINATE: double (nullable = true)\n",
      " |-- LATITUDE: double (nullable = true)\n",
      " |-- LONGITUDE: double (nullable = true)\n",
      " |-- LOCATION: string (nullable = true)\n",
      "\n"
     ]
    }
   ],
   "source": [
    "from pyspark.sql.functions import to_timestamp\n",
    "df_presque_final_good_type = df_presque_final.withColumn(\"Date\", to_timestamp(df_presque_final[\"Date\"], \"MM/dd/yyyy hh:mm:ss a\"))\n",
    "\n",
    "# Afficher le schéma après conversion\n",
    "df_presque_final_good_type.printSchema()"
   ]
  },
  {
   "cell_type": "markdown",
   "id": "9b85c705-7dc4-4d97-83a6-ff5b017b6774",
   "metadata": {},
   "source": [
    "1- Déterminer les 10 principaux types de crimes signalés par ordre décroissant de d'occurrence."
   ]
  },
  {
   "cell_type": "code",
   "execution_count": 78,
   "id": "c6973fa8-9b7e-4aa3-bb78-571438174307",
   "metadata": {},
   "outputs": [],
   "source": [
    "df_crime = df_presque_final_good_type"
   ]
  },
  {
   "cell_type": "code",
   "execution_count": 79,
   "id": "c72521a9-5bfa-4e10-a1cf-1a9ba0482e90",
   "metadata": {},
   "outputs": [
    {
     "name": "stdout",
     "output_type": "stream",
     "text": [
      "+-------------------+-----+\n",
      "|       Primary Type|count|\n",
      "+-------------------+-----+\n",
      "|              THEFT|65290|\n",
      "|            BATTERY|49829|\n",
      "|    CRIMINAL DAMAGE|27823|\n",
      "|            ASSAULT|20407|\n",
      "| DECEPTIVE PRACTICE|19910|\n",
      "|      OTHER OFFENSE|17267|\n",
      "|          NARCOTICS|13593|\n",
      "|           BURGLARY|11747|\n",
      "|MOTOR VEHICLE THEFT| 9984|\n",
      "|            ROBBERY| 9681|\n",
      "+-------------------+-----+\n",
      "only showing top 10 rows\n",
      "\n"
     ]
    }
   ],
   "source": [
    "df_crime.groupBy(\"Primary Type\").count().orderBy(\"count\", ascending=False).show(10)\n"
   ]
  },
  {
   "cell_type": "markdown",
   "id": "c547f875-66ac-4648-a6c3-3c80a49ac031",
   "metadata": {},
   "source": [
    "2- Les modalités de la variable 'arrest'"
   ]
  },
  {
   "cell_type": "code",
   "execution_count": 80,
   "id": "e9826f75-abb3-421c-8143-d68ca1edca12",
   "metadata": {},
   "outputs": [
    {
     "data": {
      "text/html": [
       "<table border='1'>\n",
       "<tr><th>Arrest</th><th>count</th></tr>\n",
       "<tr><td>true</td><td>53891</td></tr>\n",
       "<tr><td>false</td><td>215139</td></tr>\n",
       "</table>\n"
      ],
      "text/plain": [
       "+------+------+\n",
       "|Arrest| count|\n",
       "+------+------+\n",
       "|  true| 53891|\n",
       "| false|215139|\n",
       "+------+------+"
      ]
     },
     "execution_count": 80,
     "metadata": {},
     "output_type": "execute_result"
    }
   ],
   "source": [
    "df_crime.groupBy(\"Arrest\").count()\n"
   ]
  },
  {
   "cell_type": "markdown",
   "id": "596d47b8-47c1-404c-aacf-8649390fa491",
   "metadata": {},
   "source": [
    "3-\tQuel pourcentage de crimes signalés a donné lieu à une arrestation ?"
   ]
  },
  {
   "cell_type": "code",
   "execution_count": 81,
   "id": "4e1793e3-7212-4360-bea5-68000dc8a07c",
   "metadata": {},
   "outputs": [
    {
     "name": "stdout",
     "output_type": "stream",
     "text": [
      "Pourcentage de crimes avec arrestation: 20.031594989406386%\n"
     ]
    }
   ],
   "source": [
    "total_crimes = df_crime.count()\n",
    "arrest_crime = df_crime.filter(df_crime[\"Arrest\"] == True).count()\n",
    "\n",
    "# Calculer le pourcentage\n",
    "pourcentage_arrestations = (arrest_crime / total_crimes) * 100\n",
    "print(f\"Pourcentage de crimes avec arrestation: {pourcentage_arrestations}%\")\n"
   ]
  },
  {
   "cell_type": "markdown",
   "id": "72f99768-3aab-4bc9-bcf1-84675cefcaf7",
   "metadata": {},
   "source": [
    "4-\tQuels sont les 3 principaux lieux pour les crimes signalés ?"
   ]
  },
  {
   "cell_type": "code",
   "execution_count": 82,
   "id": "f0cb9613-abb5-4e5f-9fc7-5f12d7c678e8",
   "metadata": {},
   "outputs": [
    {
     "name": "stdout",
     "output_type": "stream",
     "text": [
      "+--------------------+-----+\n",
      "|Location Description|count|\n",
      "+--------------------+-----+\n",
      "|              STREET|59066|\n",
      "|           RESIDENCE|45399|\n",
      "|           APARTMENT|34935|\n",
      "+--------------------+-----+\n",
      "only showing top 3 rows\n",
      "\n"
     ]
    }
   ],
   "source": [
    "df_crime.groupBy(\"Location Description\").count().orderBy(\"count\", ascending=False).show(3)\n"
   ]
  },
  {
   "cell_type": "markdown",
   "id": "7c24e28e-6209-4917-9a17-db9f218337fe",
   "metadata": {},
   "source": [
    "5- Affichage de la date la plus ancienne et la date la plus récente"
   ]
  },
  {
   "cell_type": "code",
   "execution_count": 83,
   "id": "31085b1e-905a-45dc-adcc-230a67ed1e96",
   "metadata": {},
   "outputs": [
    {
     "name": "stdout",
     "output_type": "stream",
     "text": [
      "+-------------------+\n",
      "|          min(Date)|\n",
      "+-------------------+\n",
      "|2018-01-01 00:00:00|\n",
      "+-------------------+\n",
      "\n",
      "+-------------------+\n",
      "|          max(Date)|\n",
      "+-------------------+\n",
      "|2018-12-31 23:59:00|\n",
      "+-------------------+\n",
      "\n"
     ]
    }
   ],
   "source": [
    "df_crime.agg({\"Date\": \"min\"}).show()\n",
    "df_crime.agg({\"Date\": \"max\"}).show()\n"
   ]
  },
  {
   "cell_type": "markdown",
   "id": "d9db9530-28c7-48a0-8001-846eb54fa28a",
   "metadata": {},
   "source": [
    "6- Quel jour de la semaine compte le plus grand nombre de crimes signalés ?"
   ]
  },
  {
   "cell_type": "code",
   "execution_count": 84,
   "id": "913829de-3f7d-4122-a27b-1fd40ae8830c",
   "metadata": {},
   "outputs": [
    {
     "data": {
      "text/html": [
       "<table border='1'>\n",
       "<tr><th>Day of Week</th><th>count</th></tr>\n",
       "<tr><td>Fri</td><td>39834</td></tr>\n",
       "<tr><td>Sat</td><td>39142</td></tr>\n",
       "<tr><td>Mon</td><td>38852</td></tr>\n",
       "<tr><td>Wed</td><td>38307</td></tr>\n",
       "<tr><td>Thu</td><td>38055</td></tr>\n",
       "<tr><td>Tue</td><td>37629</td></tr>\n",
       "<tr><td>Sun</td><td>37211</td></tr>\n",
       "</table>\n"
      ],
      "text/plain": [
       "+-----------+-----+\n",
       "|Day of Week|count|\n",
       "+-----------+-----+\n",
       "|        Fri|39834|\n",
       "|        Sat|39142|\n",
       "|        Mon|38852|\n",
       "|        Wed|38307|\n",
       "|        Thu|38055|\n",
       "|        Tue|37629|\n",
       "|        Sun|37211|\n",
       "+-----------+-----+"
      ]
     },
     "execution_count": 84,
     "metadata": {},
     "output_type": "execute_result"
    }
   ],
   "source": [
    "from pyspark.sql.functions import date_format\n",
    "\n",
    "df_crime = df_crime.withColumn(\"Day of Week\", date_format(\"Date\", \"E\"))\n",
    "\n",
    "df_crime.groupBy(\"Day of Week\").count().orderBy(\"count\", ascending=False)\n"
   ]
  },
  {
   "cell_type": "markdown",
   "id": "eac1a1ca-2f34-467e-9e20-a850e177fbae",
   "metadata": {},
   "source": [
    "7- Quelle est l'activité non criminelle la plus fréquemment signalée ?"
   ]
  },
  {
   "cell_type": "code",
   "execution_count": 85,
   "id": "169ced76-77c1-417c-bc73-4e13ddb55f60",
   "metadata": {},
   "outputs": [
    {
     "name": "stdout",
     "output_type": "stream",
     "text": [
      "+-------------+-----+\n",
      "|  Description|count|\n",
      "+-------------+-----+\n",
      "|LOST PASSPORT|   17|\n",
      "+-------------+-----+\n",
      "only showing top 1 row\n",
      "\n"
     ]
    }
   ],
   "source": [
    "df_non_criminal = df_crime.filter(df_crime[\"Primary Type\"] == \"NON-CRIMINAL\")\n",
    "df_non_criminal.groupBy(\"Description\").count().orderBy(\"count\", ascending=False).show(1)\n"
   ]
  },
  {
   "cell_type": "markdown",
   "id": "8af93227-d897-42c3-b004-519c36c15142",
   "metadata": {},
   "source": [
    "8- Analyser les crimes par localisation"
   ]
  },
  {
   "cell_type": "code",
   "execution_count": 86,
   "id": "8fdc5d63-d754-4a62-97db-283d5f44ead4",
   "metadata": {},
   "outputs": [
    {
     "name": "stdout",
     "output_type": "stream",
     "text": [
      "+--------------------+-----+\n",
      "|Location Description|count|\n",
      "+--------------------+-----+\n",
      "|              STREET|59066|\n",
      "|           RESIDENCE|45399|\n",
      "|           APARTMENT|34935|\n",
      "|            SIDEWALK|21166|\n",
      "|               OTHER|10864|\n",
      "|PARKING LOT/GARAG...| 7624|\n",
      "|          RESTAURANT| 7343|\n",
      "|  SMALL RETAIL STORE| 7282|\n",
      "|VEHICLE NON-COMME...| 5185|\n",
      "|RESIDENTIAL YARD ...| 5111|\n",
      "|               ALLEY| 5001|\n",
      "|    DEPARTMENT STORE| 4723|\n",
      "|RESIDENCE PORCH/H...| 4676|\n",
      "|    RESIDENCE-GARAGE| 3866|\n",
      "|         GAS STATION| 3737|\n",
      "|  GROCERY FOOD STORE| 3477|\n",
      "|SCHOOL, PUBLIC, B...| 3463|\n",
      "|       BAR OR TAVERN| 2199|\n",
      "|           CTA TRAIN| 2181|\n",
      "|   CONVENIENCE STORE| 2103|\n",
      "+--------------------+-----+\n",
      "only showing top 20 rows\n",
      "\n"
     ]
    }
   ],
   "source": [
    "df_crime.groupBy(\"Location Description\").count().orderBy(\"count\", ascending=False).show()\n"
   ]
  },
  {
   "cell_type": "markdown",
   "id": "a1a45e7d-d9ad-4cfe-930b-98f83b27006f",
   "metadata": {
    "tags": []
   },
   "source": [
    "9- Analyser la répartition des crimes par mois et par année"
   ]
  },
  {
   "cell_type": "code",
   "execution_count": 87,
   "id": "a9c29829-f655-40d7-8de8-110e9da49678",
   "metadata": {},
   "outputs": [
    {
     "name": "stdout",
     "output_type": "stream",
     "text": [
      "+----+-----+-----+\n",
      "|Year|Month|count|\n",
      "+----+-----+-----+\n",
      "|2018|    1|20602|\n",
      "|2018|    2|17381|\n",
      "|2018|    3|21264|\n",
      "|2018|    4|21170|\n",
      "|2018|    5|24772|\n",
      "|2018|    6|24271|\n",
      "|2018|    7|25302|\n",
      "|2018|    8|25503|\n",
      "|2018|    9|23148|\n",
      "|2018|   10|22872|\n",
      "|2018|   11|20715|\n",
      "|2018|   12|22030|\n",
      "+----+-----+-----+\n",
      "\n"
     ]
    }
   ],
   "source": [
    "from pyspark.sql.functions import year, month\n",
    "\n",
    "df_crime = df_crime.withColumn(\"Year\", year(\"Date\"))\n",
    "df_crime = df_crime.withColumn(\"Month\", month(\"Date\"))\n",
    "\n",
    "df_crime.groupBy(\"Year\", \"Month\").count().orderBy(\"Year\", \"Month\").show()\n"
   ]
  },
  {
   "cell_type": "markdown",
   "id": "a0d6945c-1b60-4514-ab5c-fc380efabc86",
   "metadata": {},
   "source": [
    "10 - Analyser les crimes par statut (résolu ou non)"
   ]
  },
  {
   "cell_type": "code",
   "execution_count": 88,
   "id": "7a852ff1-f68d-4345-b945-95f78b1f766a",
   "metadata": {},
   "outputs": [
    {
     "name": "stdout",
     "output_type": "stream",
     "text": [
      "+------+------+\n",
      "|Arrest| count|\n",
      "+------+------+\n",
      "| false|215139|\n",
      "|  true| 53891|\n",
      "+------+------+\n",
      "\n"
     ]
    }
   ],
   "source": [
    "df_crime.groupBy(\"Arrest\").count().orderBy(\"count\", ascending=False).show()\n"
   ]
  },
  {
   "cell_type": "markdown",
   "id": "600b2251-3e0a-4c59-bb91-339967b9da3f",
   "metadata": {},
   "source": [
    "11- Analyser les crimes les plus graves par type\n",
    "\n",
    "On peut regarder les crimes ayant une description particulière, comme les homicides."
   ]
  },
  {
   "cell_type": "code",
   "execution_count": 89,
   "id": "c55df1af-1504-4276-baaa-e53c8696f98c",
   "metadata": {},
   "outputs": [
    {
     "name": "stdout",
     "output_type": "stream",
     "text": [
      "+-------------------+-----+\n",
      "|        Description|count|\n",
      "+-------------------+-----+\n",
      "|FIRST DEGREE MURDER|  588|\n",
      "|  RECKLESS HOMICIDE|   12|\n",
      "+-------------------+-----+\n",
      "\n"
     ]
    }
   ],
   "source": [
    "df_crime_grave = df_crime.filter(df_crime[\"Primary Type\"] == \"HOMICIDE\")\n",
    "df_crime_grave.groupBy(\"Description\").count().orderBy(\"count\", ascending=False).show()\n"
   ]
  },
  {
   "cell_type": "markdown",
   "id": "0a95a1eb-a4f6-4311-a374-c41ca96a62dd",
   "metadata": {},
   "source": [
    "12- Quels sont les types de crimes les plus fréquents par jour de la semaine ?\n"
   ]
  },
  {
   "cell_type": "code",
   "execution_count": 90,
   "id": "9a95eb81-6ad9-4e12-a188-978e2ff22cfc",
   "metadata": {},
   "outputs": [
    {
     "name": "stdout",
     "output_type": "stream",
     "text": [
      "+-----------+------------+-----+\n",
      "|Day of Week|Primary Type|count|\n",
      "+-----------+------------+-----+\n",
      "|        Fri|       THEFT| 9795|\n",
      "|        Thu|       THEFT| 9547|\n",
      "|        Wed|       THEFT| 9482|\n",
      "|        Mon|       THEFT| 9478|\n",
      "|        Sat|       THEFT| 9415|\n",
      "|        Tue|       THEFT| 9312|\n",
      "|        Sun|     BATTERY| 8451|\n",
      "|        Sun|       THEFT| 8261|\n",
      "|        Sat|     BATTERY| 8069|\n",
      "|        Fri|     BATTERY| 6849|\n",
      "+-----------+------------+-----+\n",
      "only showing top 10 rows\n",
      "\n"
     ]
    }
   ],
   "source": [
    "df_crime.groupBy(\"Day of Week\", \"Primary Type\").count().orderBy(\"count\", ascending=False).show(10)\n"
   ]
  },
  {
   "cell_type": "markdown",
   "id": "34906c2d-a5f2-4487-91f0-3e69c45b5023",
   "metadata": {},
   "source": [
    "13- Quels types de crimes sont les plus fréquents le week-end par rapport aux jours de la semaine ?"
   ]
  },
  {
   "cell_type": "code",
   "execution_count": 71,
   "id": "d31070dd-5fcd-474f-8d14-72513cff434c",
   "metadata": {},
   "outputs": [
    {
     "name": "stdout",
     "output_type": "stream",
     "text": [
      "+------------+-----+\n",
      "|Primary Type|count|\n",
      "+------------+-----+\n",
      "+------------+-----+\n",
      "\n",
      "+------------+-----+\n",
      "|Primary Type|count|\n",
      "+------------+-----+\n",
      "+------------+-----+\n",
      "\n"
     ]
    }
   ],
   "source": [
    "# Filtrer le week-end (Samedi, Dimanche)\n",
    "weekend = [\"Sat\", \"Sun\"]\n",
    "\n",
    "df_weekend = df_crime.filter(df_crime[\"Day of Week\"].isin(weekend))\n",
    "df_weekend.groupBy(\"Primary Type\").count().orderBy(\"count\", ascending=False).show()\n",
    "\n",
    "df_weekdays = df_crime.filter(~df_crime[\"Day of Week\"].isin(weekend))\n",
    "df_weekdays.groupBy(\"Primary Type\").count().orderBy(\"count\", ascending=False).show()\n"
   ]
  },
  {
   "cell_type": "markdown",
   "id": "3be47598-0a40-4527-a9b3-35d90c2c7494",
   "metadata": {},
   "source": [
    "14- Quels sont les quartiers les plus dangereux pour les mineurs ?"
   ]
  },
  {
   "cell_type": "code",
   "execution_count": 64,
   "id": "dc4d7d4e-8fa3-40b1-ac4d-a05cc04eb50f",
   "metadata": {},
   "outputs": [
    {
     "name": "stdout",
     "output_type": "stream",
     "text": [
      "+--------------+-----+\n",
      "|Community Area|count|\n",
      "+--------------+-----+\n",
      "|          NULL| 4850|\n",
      "|            25| 3650|\n",
      "|            43| 2283|\n",
      "|            71| 2109|\n",
      "|            23| 2034|\n",
      "+--------------+-----+\n",
      "only showing top 5 rows\n",
      "\n"
     ]
    }
   ],
   "source": [
    "# Filtrer les crimes impliquant des mineurs en recherchant des mots-clés dans la colonne \"Description\"\n",
    "\n",
    "#rlike() : Utilise une expression régulière pour rechercher des mots-clés comme MINOR, CHILD, ou JUVENILE dans la colonne Description. \n",
    "#Le (?i) permet de rendre la recherche insensible à la casse (majuscule/minuscule).\n",
    "df_mineur = df_crime.filter(df_crime[\"Description\"].rlike(\"(?i)(MINOR|CHILD|JUVENILE)\"))\n",
    "\n",
    "df_mineur.groupBy(\"Community Area\").count().orderBy(\"count\", ascending=False).show(5)\n"
   ]
  },
  {
   "cell_type": "markdown",
   "id": "3417495c-a2c4-4dcf-a425-0829f060e40a",
   "metadata": {},
   "source": [
    "15- Quelle proportion des crimes signalés se produit à domicile ?"
   ]
  },
  {
   "cell_type": "code",
   "execution_count": 65,
   "id": "4215633e-b508-400e-9ab2-1857bff6af85",
   "metadata": {},
   "outputs": [
    {
     "name": "stdout",
     "output_type": "stream",
     "text": [
      "Pourcentage des crimes à domicile : 16.56377246700027%\n"
     ]
    }
   ],
   "source": [
    "# Filtrer les crimes qui se produisent à domicile (ex: Location Description == 'RESIDENCE')\n",
    "total_crimes = df_crime.count()\n",
    "maiz_crimes = df_crime.filter(df_crime[\"Location Description\"] == \"RESIDENCE\").count()\n",
    "\n",
    "# Calcul du pourcentage\n",
    "pourcentage_domestic_crimes = (maiz_crimes / total_crimes) * 100\n",
    "print(f\"Pourcentage des crimes à domicile : {pourcentage_domestic_crimes}%\")\n"
   ]
  },
  {
   "cell_type": "markdown",
   "id": "97b8bc34-8962-402d-bf2d-c4e0ace4f34a",
   "metadata": {},
   "source": [
    "16- Quelle est la variation du nombre de crimes commis en intérieur vs extérieur ?"
   ]
  },
  {
   "cell_type": "code",
   "execution_count": 66,
   "id": "a6495460-74e5-444c-984d-d0631c317649",
   "metadata": {},
   "outputs": [
    {
     "name": "stdout",
     "output_type": "stream",
     "text": [
      "Crimes en intérieur : 5835558, Crimes en extérieur : 5835558\n"
     ]
    }
   ],
   "source": [
    "# Filtrer les crimes par localisation (intérieur/extérieur)\n",
    "df_in = df_crime.filter(df_crime[\"Location Description\"].isin(\"RESIDENCE\", \"APARTMENT\", \"POLICE FACILITY/VEHICLE\"))\n",
    "df_out = df_crime.filter(~df_crime[\"Location Description\"].isin(\"RESIDENCE\", \"APARTMENT\", \"POLICE FACILITY/VEHICLE\"))\n",
    "\n",
    "in_crimes = df_in.count()\n",
    "in_crimes = df_out.count()\n",
    "\n",
    "print(f\"Crimes en intérieur : {in_crimes}, Crimes en extérieur : {in_crimes}\")\n"
   ]
  },
  {
   "cell_type": "markdown",
   "id": "39b84399-dfb6-4704-a075-eb4faff6bf33",
   "metadata": {},
   "source": [
    "17- Quels types de crimes sont les plus fréquents en centre-ville ?"
   ]
  },
  {
   "cell_type": "code",
   "execution_count": 67,
   "id": "502d4b79-dff5-4d9f-bd22-2815c0aae008",
   "metadata": {},
   "outputs": [
    {
     "name": "stdout",
     "output_type": "stream",
     "text": [
      "+--------------------+------+\n",
      "|        Primary Type| count|\n",
      "+--------------------+------+\n",
      "|               THEFT|110377|\n",
      "|             BATTERY| 35005|\n",
      "|  DECEPTIVE PRACTICE| 27663|\n",
      "|     CRIMINAL DAMAGE| 16963|\n",
      "|   CRIMINAL TRESPASS| 14289|\n",
      "|             ASSAULT| 10978|\n",
      "|           NARCOTICS| 10764|\n",
      "|       OTHER OFFENSE|  9483|\n",
      "|             ROBBERY|  7240|\n",
      "| MOTOR VEHICLE THEFT|  7118|\n",
      "|            BURGLARY|  6120|\n",
      "|        PROSTITUTION|  3918|\n",
      "|   WEAPONS VIOLATION|  1940|\n",
      "|PUBLIC PEACE VIOL...|  1416|\n",
      "|         SEX OFFENSE|   904|\n",
      "| CRIM SEXUAL ASSAULT|   759|\n",
      "|CRIMINAL SEXUAL A...|   696|\n",
      "|LIQUOR LAW VIOLATION|   685|\n",
      "|OFFENSE INVOLVING...|   626|\n",
      "|INTERFERENCE WITH...|   547|\n",
      "+--------------------+------+\n",
      "only showing top 20 rows\n",
      "\n"
     ]
    }
   ],
   "source": [
    "# Remplacer <center_district_value> par la valeur réelle correspondant au centre-ville\n",
    "# Supposons que la zone centrale (downtown) soit représentée par la Community Area 8 (exemple fictif)\n",
    "\n",
    "df_centre = df_crime.filter(df_crime[\"Community Area\"] == 8)\n",
    "\n",
    "# Analyser les types de crimes dans cette zone\n",
    "df_centre.groupBy(\"Primary Type\").count().orderBy(\"count\", ascending=False).show()\n"
   ]
  },
  {
   "cell_type": "markdown",
   "id": "bdc392bc-9e18-4c8f-965c-70504d2a6365",
   "metadata": {},
   "source": [
    "18- Quel type de crime est le plus fréquent près des universités ?"
   ]
  },
  {
   "cell_type": "code",
   "execution_count": 68,
   "id": "bfc4c5f2-b772-4740-ae90-887e0fd1d93c",
   "metadata": {},
   "outputs": [
    {
     "name": "stdout",
     "output_type": "stream",
     "text": [
      "+--------------------+-----+\n",
      "|        Primary Type|count|\n",
      "+--------------------+-----+\n",
      "|               THEFT| 3355|\n",
      "|   CRIMINAL TRESPASS|  902|\n",
      "|             BATTERY|  694|\n",
      "|     CRIMINAL DAMAGE|  457|\n",
      "|             ASSAULT|  399|\n",
      "|           NARCOTICS|  394|\n",
      "|       OTHER OFFENSE|  387|\n",
      "|  DECEPTIVE PRACTICE|  343|\n",
      "|            BURGLARY|  194|\n",
      "|PUBLIC PEACE VIOL...|   98|\n",
      "| MOTOR VEHICLE THEFT|   82|\n",
      "|             ROBBERY|   73|\n",
      "|         SEX OFFENSE|   72|\n",
      "| CRIM SEXUAL ASSAULT|   70|\n",
      "|OFFENSE INVOLVING...|   16|\n",
      "|CRIMINAL SEXUAL A...|   15|\n",
      "|LIQUOR LAW VIOLATION|   13|\n",
      "|               ARSON|   10|\n",
      "|   WEAPONS VIOLATION|   10|\n",
      "|            STALKING|    9|\n",
      "+--------------------+-----+\n",
      "only showing top 20 rows\n",
      "\n"
     ]
    }
   ],
   "source": [
    "# Filtrer par emplacement près des universités\n",
    "df_univ = df_crime.filter(df_crime[\"Location Description\"].contains(\"UNIVERSITY\"))\n",
    "df_univ.groupBy(\"Primary Type\").count().orderBy(\"count\", ascending=False).show()\n"
   ]
  },
  {
   "cell_type": "code",
   "execution_count": null,
   "id": "7d347b3b-6cd3-439a-8f2a-0f31b2084d52",
   "metadata": {},
   "outputs": [],
   "source": []
  },
  {
   "cell_type": "code",
   "execution_count": null,
   "id": "7f571185-83b3-49ed-8a20-e04c053a187b",
   "metadata": {},
   "outputs": [],
   "source": []
  },
  {
   "cell_type": "code",
   "execution_count": null,
   "id": "25ff6baf-bd57-432b-8fb6-69ab602bf0d2",
   "metadata": {},
   "outputs": [],
   "source": []
  },
  {
   "cell_type": "code",
   "execution_count": null,
   "id": "f7e65001-959c-484b-8de4-bfd76f2ab659",
   "metadata": {},
   "outputs": [],
   "source": []
  }
 ],
 "metadata": {
  "kernelspec": {
   "display_name": "Python 3 (ipykernel)",
   "language": "python",
   "name": "python3"
  },
  "language_info": {
   "codemirror_mode": {
    "name": "ipython",
    "version": 3
   },
   "file_extension": ".py",
   "mimetype": "text/x-python",
   "name": "python",
   "nbconvert_exporter": "python",
   "pygments_lexer": "ipython3",
   "version": "3.9.19"
  }
 },
 "nbformat": 4,
 "nbformat_minor": 5
}
