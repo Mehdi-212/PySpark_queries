{
 "cells": [
  {
   "cell_type": "markdown",
   "id": "2c2136d1-ed66-4d8d-82b6-d0370be6ac31",
   "metadata": {
    "id": "2c2136d1-ed66-4d8d-82b6-d0370be6ac31",
    "tags": []
   },
   "source": [
    "# 1-\tPrésentation de Apache Spark et Installation de l'environnement de travail\n",
    "\n",
    "Brève présentation d’Apache Spark et PySpark\n"
   ]
  },
  {
   "cell_type": "code",
   "execution_count": 1,
   "id": "e4a71658-9ce5-4ec7-b476-cb27b8a32eab",
   "metadata": {
    "id": "e4a71658-9ce5-4ec7-b476-cb27b8a32eab"
   },
   "outputs": [],
   "source": [
    "# (à faire)\n",
    "#!pip install pyspark\n",
    "#!pip install py4j\n",
    "#!pip install pandas"
   ]
  },
  {
   "cell_type": "code",
   "execution_count": 2,
   "id": "d007308e-cba6-4a58-a2c8-cdb9b75b28a6",
   "metadata": {},
   "outputs": [
    {
     "name": "stdout",
     "output_type": "stream",
     "text": [
      "C:\\Program Files\\Java\\jdk-22\\\n"
     ]
    }
   ],
   "source": [
    "import os\n",
    "print(os.environ.get('JAVA_HOME'))"
   ]
  },
  {
   "cell_type": "markdown",
   "id": "f547cf53-9baf-47ac-b6a4-490400df0fe5",
   "metadata": {
    "id": "f547cf53-9baf-47ac-b6a4-490400df0fe5"
   },
   "source": [
    "Etape installation pyspark\n",
    "- En local\n",
    "- Cloud\n",
    "- Docker"
   ]
  },
  {
   "cell_type": "markdown",
   "id": "daff3620-58ea-4d8c-80b3-839521660f77",
   "metadata": {
    "id": "daff3620-58ea-4d8c-80b3-839521660f77"
   },
   "source": [
    "# 2-\tPySpark pour l'analyse et la transformation de données"
   ]
  },
  {
   "cell_type": "code",
   "execution_count": 3,
   "id": "d619807d-b271-45aa-a285-4407615ca362",
   "metadata": {},
   "outputs": [
    {
     "name": "stdout",
     "output_type": "stream",
     "text": [
      "3.9.19 (main, May  6 2024, 20:12:36) [MSC v.1916 64 bit (AMD64)]\n"
     ]
    }
   ],
   "source": [
    "import sys\n",
    "print(sys.version)\n"
   ]
  },
  {
   "cell_type": "code",
   "execution_count": 4,
   "id": "dcc8c8b8-fda1-48a0-828a-534e4cacc04a",
   "metadata": {
    "id": "dcc8c8b8-fda1-48a0-828a-534e4cacc04a",
    "outputId": "56293ed9-41b0-4a54-91cf-c379d3d1336e",
    "tags": []
   },
   "outputs": [],
   "source": [
    "\n",
    "# Import (à faire)\n",
    "# Création de la session Spark\n",
    "# à chaque fois que vous ouvrez un nouveau notebook dans Jupyter Lab.\n",
    "#spark = SparkSession.builder \\\n",
    "#    .appName (\"AppName\") \\\n",
    " #   .getOrCreate()\n",
    "\n",
    "# Question : Pourquoi créer une session ?"
   ]
  },
  {
   "cell_type": "code",
   "execution_count": 5,
   "id": "83bd25c2-7ea0-4e8f-9dcb-653f06c045df",
   "metadata": {
    "scrolled": true
   },
   "outputs": [
    {
     "data": {
      "text/html": [
       "<table border='1'>\n",
       "<tr><th>id</th><th>name</th><th>age</th></tr>\n",
       "<tr><td>1</td><td>Alice</td><td>25</td></tr>\n",
       "<tr><td>2</td><td>Bob</td><td>30</td></tr>\n",
       "<tr><td>3</td><td>Charlie</td><td>35</td></tr>\n",
       "</table>\n"
      ],
      "text/plain": [
       "+---+-------+---+\n",
       "| id|   name|age|\n",
       "+---+-------+---+\n",
       "|  1|  Alice| 25|\n",
       "|  2|    Bob| 30|\n",
       "|  3|Charlie| 35|\n",
       "+---+-------+---+"
      ]
     },
     "execution_count": 5,
     "metadata": {},
     "output_type": "execute_result"
    }
   ],
   "source": [
    "from pyspark.sql import SparkSession\n",
    "\n",
    "# Créer une session Spark\n",
    "#spark = SparkSession.builder.master(\"local[*]\").appName(\"Test\").getOrCreate()\n",
    "spark = SparkSession.builder.config(\"spark.sql.repl.eagerEval.enabled\", True).getOrCreate() \n",
    "\n",
    "# Créer un DataFrame\n",
    "spark_df = spark.createDataFrame(\n",
    "    [(1, \"Alice\", 25), (2, \"Bob\", 30), (3, \"Charlie\", 35)],\n",
    "    [\"id\", \"name\", \"age\"]\n",
    ")\n",
    "\n",
    "# Afficher le DataFrame\n",
    "spark_df"
   ]
  },
  {
   "cell_type": "code",
   "execution_count": 6,
   "id": "a5455b78-674a-4409-93ac-5fc033a8c670",
   "metadata": {},
   "outputs": [
    {
     "data": {
      "text/html": [
       "<table border='1'>\n",
       "<tr><th>ID</th><th>Case Number</th><th>Date</th><th>Block</th><th>IUCR</th><th>Primary Type</th><th>Description</th><th>Location Description</th><th>Arrest</th><th>Domestic</th><th>Beat</th><th>District</th><th>Ward</th><th>Community Area</th><th>FBI Code</th><th>X Coordinate</th><th>Y Coordinate</th><th>Year</th><th>Updated On</th><th>Latitude</th><th>Longitude</th><th>Location</th></tr>\n",
       "<tr><td>11037294</td><td>JA371270</td><td>03/18/2015 12:00:...</td><td>0000X W WACKER DR</td><td>1153</td><td>DECEPTIVE PRACTICE</td><td>FINANCIAL IDENTIT...</td><td>BANK</td><td>false</td><td>false</td><td>111</td><td>1</td><td>42</td><td>32</td><td>11</td><td>NULL</td><td>NULL</td><td>2015</td><td>08/01/2017 03:52:...</td><td>NULL</td><td>NULL</td><td>NULL</td></tr>\n",
       "<tr><td>11646293</td><td>JC213749</td><td>12/20/2018 03:00:...</td><td>023XX N LOCKWOOD AVE</td><td>1154</td><td>DECEPTIVE PRACTICE</td><td>FINANCIAL IDENTIT...</td><td>APARTMENT</td><td>false</td><td>false</td><td>2515</td><td>25</td><td>36</td><td>19</td><td>11</td><td>NULL</td><td>NULL</td><td>2018</td><td>04/06/2019 04:04:...</td><td>NULL</td><td>NULL</td><td>NULL</td></tr>\n",
       "<tr><td>11645836</td><td>JC212333</td><td>05/01/2016 12:25:...</td><td>055XX S ROCKWELL ST</td><td>1153</td><td>DECEPTIVE PRACTICE</td><td>FINANCIAL IDENTIT...</td><td>NULL</td><td>false</td><td>false</td><td>824</td><td>8</td><td>15</td><td>63</td><td>11</td><td>NULL</td><td>NULL</td><td>2016</td><td>04/06/2019 04:04:...</td><td>NULL</td><td>NULL</td><td>NULL</td></tr>\n",
       "<tr><td>11645959</td><td>JC211511</td><td>12/20/2018 04:00:...</td><td>045XX N ALBANY AVE</td><td>2820</td><td>OTHER OFFENSE</td><td>TELEPHONE THREAT</td><td>RESIDENCE</td><td>false</td><td>false</td><td>1724</td><td>17</td><td>33</td><td>14</td><td>08A</td><td>NULL</td><td>NULL</td><td>2018</td><td>04/06/2019 04:04:...</td><td>NULL</td><td>NULL</td><td>NULL</td></tr>\n",
       "<tr><td>11645601</td><td>JC212935</td><td>06/01/2014 12:01:...</td><td>087XX S SANGAMON ST</td><td>1153</td><td>DECEPTIVE PRACTICE</td><td>FINANCIAL IDENTIT...</td><td>RESIDENCE</td><td>false</td><td>false</td><td>2222</td><td>22</td><td>21</td><td>71</td><td>11</td><td>NULL</td><td>NULL</td><td>2014</td><td>04/06/2019 04:04:...</td><td>NULL</td><td>NULL</td><td>NULL</td></tr>\n",
       "<tr><td>11646166</td><td>JC213529</td><td>09/01/2018 12:01:...</td><td>082XX S INGLESIDE...</td><td>0810</td><td>THEFT</td><td>OVER $500</td><td>RESIDENCE</td><td>false</td><td>true</td><td>631</td><td>6</td><td>8</td><td>44</td><td>06</td><td>NULL</td><td>NULL</td><td>2018</td><td>04/06/2019 04:04:...</td><td>NULL</td><td>NULL</td><td>NULL</td></tr>\n",
       "<tr><td>11645648</td><td>JC212959</td><td>01/01/2018 08:00:...</td><td>024XX N MONITOR AVE</td><td>1153</td><td>DECEPTIVE PRACTICE</td><td>FINANCIAL IDENTIT...</td><td>RESIDENCE</td><td>false</td><td>false</td><td>2515</td><td>25</td><td>30</td><td>19</td><td>11</td><td>NULL</td><td>NULL</td><td>2018</td><td>04/06/2019 04:04:...</td><td>NULL</td><td>NULL</td><td>NULL</td></tr>\n",
       "<tr><td>11645557</td><td>JC212685</td><td>04/01/2018 12:01:...</td><td>080XX S VERNON AVE</td><td>1153</td><td>DECEPTIVE PRACTICE</td><td>FINANCIAL IDENTIT...</td><td>RESIDENCE</td><td>false</td><td>false</td><td>631</td><td>6</td><td>6</td><td>44</td><td>11</td><td>NULL</td><td>NULL</td><td>2018</td><td>04/06/2019 04:04:...</td><td>NULL</td><td>NULL</td><td>NULL</td></tr>\n",
       "<tr><td>11645527</td><td>JC212744</td><td>02/02/2015 10:00:...</td><td>069XX W ARCHER AVE</td><td>1153</td><td>DECEPTIVE PRACTICE</td><td>FINANCIAL IDENTIT...</td><td>OTHER</td><td>false</td><td>false</td><td>811</td><td>8</td><td>23</td><td>56</td><td>11</td><td>NULL</td><td>NULL</td><td>2015</td><td>04/06/2019 04:04:...</td><td>NULL</td><td>NULL</td><td>NULL</td></tr>\n",
       "<tr><td>11645833</td><td>JC213044</td><td>05/05/2012 12:25:...</td><td>057XX W OHIO ST</td><td>1153</td><td>DECEPTIVE PRACTICE</td><td>FINANCIAL IDENTIT...</td><td>NULL</td><td>false</td><td>false</td><td>1511</td><td>15</td><td>29</td><td>25</td><td>11</td><td>NULL</td><td>NULL</td><td>2012</td><td>04/06/2019 04:04:...</td><td>NULL</td><td>NULL</td><td>NULL</td></tr>\n",
       "<tr><td>11645568</td><td>JC212803</td><td>12/18/2018 11:00:...</td><td>032XX N WILTON AVE</td><td>1153</td><td>DECEPTIVE PRACTICE</td><td>FINANCIAL IDENTIT...</td><td>RESIDENCE</td><td>false</td><td>false</td><td>1924</td><td>19</td><td>44</td><td>6</td><td>11</td><td>NULL</td><td>NULL</td><td>2018</td><td>04/06/2019 04:04:...</td><td>NULL</td><td>NULL</td><td>NULL</td></tr>\n",
       "<tr><td>12045583</td><td>JD226426</td><td>05/07/2020 10:24:...</td><td>035XX S INDIANA AVE</td><td>0820</td><td>THEFT</td><td>$500 AND UNDER</td><td>APARTMENT</td><td>false</td><td>false</td><td>212</td><td>2</td><td>3</td><td>35</td><td>06</td><td>1178180</td><td>1881621</td><td>2020</td><td>05/14/2020 08:47:...</td><td>41.830481843</td><td>-87.621751752</td><td>(41.830481843, -8...</td></tr>\n",
       "<tr><td>12031001</td><td>JD209965</td><td>04/16/2020 05:00:...</td><td>005XX W 32ND ST</td><td>0460</td><td>BATTERY</td><td>SIMPLE</td><td>APARTMENT</td><td>true</td><td>false</td><td>915</td><td>9</td><td>11</td><td>60</td><td>08B</td><td>1173292</td><td>1883705</td><td>2020</td><td>04/23/2020 03:45:...</td><td>41.836310224</td><td>-87.639624112</td><td>(41.836310224, -8...</td></tr>\n",
       "<tr><td>12093529</td><td>JD282112</td><td>07/01/2020 10:16:...</td><td>081XX S COLES AVE</td><td>051A</td><td>ASSAULT</td><td>AGGRAVATED - HANDGUN</td><td>STREET</td><td>true</td><td>false</td><td>422</td><td>4</td><td>7</td><td>46</td><td>04A</td><td>1198234</td><td>1851595</td><td>2020</td><td>07/08/2020 03:41:...</td><td>41.747609555</td><td>-87.549179329</td><td>(41.747609555, -8...</td></tr>\n",
       "<tr><td>12178140</td><td>JD381597</td><td>09/27/2020 11:29:...</td><td>065XX S WOLCOTT AVE</td><td>0460</td><td>BATTERY</td><td>SIMPLE</td><td>RESIDENCE - PORCH...</td><td>false</td><td>false</td><td>726</td><td>7</td><td>15</td><td>67</td><td>08B</td><td>1164812</td><td>1861251</td><td>2020</td><td>10/04/2020 03:43:...</td><td>41.77487752</td><td>-87.671374872</td><td>(41.77487752, -87...</td></tr>\n",
       "<tr><td>4144897</td><td>HL474854</td><td>07/10/2005 03:00:...</td><td>062XX S ABERDEEN ST</td><td>0430</td><td>BATTERY</td><td>AGGRAVATED: OTHER...</td><td>STREET</td><td>false</td><td>false</td><td>712</td><td>7</td><td>16</td><td>68</td><td>04B</td><td>1170050</td><td>1863524</td><td>2005</td><td>02/28/2018 03:56:...</td><td>41.781002663</td><td>-87.652107119</td><td>(41.781002663, -8...</td></tr>\n",
       "<tr><td>1744168</td><td>G553545</td><td>09/15/2001 02:00:...</td><td>013XX W POLK ST</td><td>0460</td><td>BATTERY</td><td>SIMPLE</td><td>STREET</td><td>false</td><td>false</td><td>1213</td><td>12</td><td>NULL</td><td>NULL</td><td>08B</td><td>NULL</td><td>NULL</td><td>2001</td><td>08/17/2015 03:03:...</td><td>NULL</td><td>NULL</td><td>NULL</td></tr>\n",
       "<tr><td>11641644</td><td>JC207234</td><td>03/31/2019 09:30:...</td><td>005XX N ogden ave</td><td>0890</td><td>THEFT</td><td>FROM BUILDING</td><td>RESTAURANT</td><td>false</td><td>false</td><td>1215</td><td>12</td><td>1</td><td>24</td><td>06</td><td>NULL</td><td>NULL</td><td>2019</td><td>04/07/2019 04:05:...</td><td>NULL</td><td>NULL</td><td>NULL</td></tr>\n",
       "<tr><td>11615821</td><td>JC176668</td><td>01/01/2016 12:00:...</td><td>054XX N NATCHEZ AVE</td><td>1195</td><td>DECEPTIVE PRACTICE</td><td>FINAN EXPLOIT-ELD...</td><td>RESIDENCE</td><td>false</td><td>true</td><td>1613</td><td>16</td><td>45</td><td>10</td><td>11</td><td>NULL</td><td>NULL</td><td>2016</td><td>03/08/2019 04:36:...</td><td>NULL</td><td>NULL</td><td>NULL</td></tr>\n",
       "<tr><td>12126129</td><td>JD321064</td><td>08/04/2020 08:28:...</td><td>081XX S LOOMIS BLVD</td><td>143A</td><td>WEAPONS VIOLATION</td><td>UNLAWFUL POSSESSI...</td><td>STREET</td><td>true</td><td>false</td><td>613</td><td>6</td><td>21</td><td>71</td><td>15</td><td>1168412</td><td>1850836</td><td>2020</td><td>08/11/2020 03:42:...</td><td>41.746220584</td><td>-87.658477307</td><td>(41.746220584, -8...</td></tr>\n",
       "</table>\n",
       "only showing top 20 rows\n"
      ],
      "text/plain": [
       "+--------+-----------+--------------------+--------------------+----+------------------+--------------------+--------------------+------+--------+----+--------+----+--------------+--------+------------+------------+----+--------------------+------------+-------------+--------------------+\n",
       "|      ID|Case Number|                Date|               Block|IUCR|      Primary Type|         Description|Location Description|Arrest|Domestic|Beat|District|Ward|Community Area|FBI Code|X Coordinate|Y Coordinate|Year|          Updated On|    Latitude|    Longitude|            Location|\n",
       "+--------+-----------+--------------------+--------------------+----+------------------+--------------------+--------------------+------+--------+----+--------+----+--------------+--------+------------+------------+----+--------------------+------------+-------------+--------------------+\n",
       "|11037294|   JA371270|03/18/2015 12:00:...|   0000X W WACKER DR|1153|DECEPTIVE PRACTICE|FINANCIAL IDENTIT...|                BANK| false|   false| 111|       1|  42|            32|      11|        NULL|        NULL|2015|08/01/2017 03:52:...|        NULL|         NULL|                NULL|\n",
       "|11646293|   JC213749|12/20/2018 03:00:...|023XX N LOCKWOOD AVE|1154|DECEPTIVE PRACTICE|FINANCIAL IDENTIT...|           APARTMENT| false|   false|2515|      25|  36|            19|      11|        NULL|        NULL|2018|04/06/2019 04:04:...|        NULL|         NULL|                NULL|\n",
       "|11645836|   JC212333|05/01/2016 12:25:...| 055XX S ROCKWELL ST|1153|DECEPTIVE PRACTICE|FINANCIAL IDENTIT...|                NULL| false|   false| 824|       8|  15|            63|      11|        NULL|        NULL|2016|04/06/2019 04:04:...|        NULL|         NULL|                NULL|\n",
       "|11645959|   JC211511|12/20/2018 04:00:...|  045XX N ALBANY AVE|2820|     OTHER OFFENSE|    TELEPHONE THREAT|           RESIDENCE| false|   false|1724|      17|  33|            14|     08A|        NULL|        NULL|2018|04/06/2019 04:04:...|        NULL|         NULL|                NULL|\n",
       "|11645601|   JC212935|06/01/2014 12:01:...| 087XX S SANGAMON ST|1153|DECEPTIVE PRACTICE|FINANCIAL IDENTIT...|           RESIDENCE| false|   false|2222|      22|  21|            71|      11|        NULL|        NULL|2014|04/06/2019 04:04:...|        NULL|         NULL|                NULL|\n",
       "|11646166|   JC213529|09/01/2018 12:01:...|082XX S INGLESIDE...|0810|             THEFT|           OVER $500|           RESIDENCE| false|    true| 631|       6|   8|            44|      06|        NULL|        NULL|2018|04/06/2019 04:04:...|        NULL|         NULL|                NULL|\n",
       "|11645648|   JC212959|01/01/2018 08:00:...| 024XX N MONITOR AVE|1153|DECEPTIVE PRACTICE|FINANCIAL IDENTIT...|           RESIDENCE| false|   false|2515|      25|  30|            19|      11|        NULL|        NULL|2018|04/06/2019 04:04:...|        NULL|         NULL|                NULL|\n",
       "|11645557|   JC212685|04/01/2018 12:01:...|  080XX S VERNON AVE|1153|DECEPTIVE PRACTICE|FINANCIAL IDENTIT...|           RESIDENCE| false|   false| 631|       6|   6|            44|      11|        NULL|        NULL|2018|04/06/2019 04:04:...|        NULL|         NULL|                NULL|\n",
       "|11645527|   JC212744|02/02/2015 10:00:...|  069XX W ARCHER AVE|1153|DECEPTIVE PRACTICE|FINANCIAL IDENTIT...|               OTHER| false|   false| 811|       8|  23|            56|      11|        NULL|        NULL|2015|04/06/2019 04:04:...|        NULL|         NULL|                NULL|\n",
       "|11645833|   JC213044|05/05/2012 12:25:...|     057XX W OHIO ST|1153|DECEPTIVE PRACTICE|FINANCIAL IDENTIT...|                NULL| false|   false|1511|      15|  29|            25|      11|        NULL|        NULL|2012|04/06/2019 04:04:...|        NULL|         NULL|                NULL|\n",
       "|11645568|   JC212803|12/18/2018 11:00:...|  032XX N WILTON AVE|1153|DECEPTIVE PRACTICE|FINANCIAL IDENTIT...|           RESIDENCE| false|   false|1924|      19|  44|             6|      11|        NULL|        NULL|2018|04/06/2019 04:04:...|        NULL|         NULL|                NULL|\n",
       "|12045583|   JD226426|05/07/2020 10:24:...| 035XX S INDIANA AVE|0820|             THEFT|      $500 AND UNDER|           APARTMENT| false|   false| 212|       2|   3|            35|      06|     1178180|     1881621|2020|05/14/2020 08:47:...|41.830481843|-87.621751752|(41.830481843, -8...|\n",
       "|12031001|   JD209965|04/16/2020 05:00:...|     005XX W 32ND ST|0460|           BATTERY|              SIMPLE|           APARTMENT|  true|   false| 915|       9|  11|            60|     08B|     1173292|     1883705|2020|04/23/2020 03:45:...|41.836310224|-87.639624112|(41.836310224, -8...|\n",
       "|12093529|   JD282112|07/01/2020 10:16:...|   081XX S COLES AVE|051A|           ASSAULT|AGGRAVATED - HANDGUN|              STREET|  true|   false| 422|       4|   7|            46|     04A|     1198234|     1851595|2020|07/08/2020 03:41:...|41.747609555|-87.549179329|(41.747609555, -8...|\n",
       "|12178140|   JD381597|09/27/2020 11:29:...| 065XX S WOLCOTT AVE|0460|           BATTERY|              SIMPLE|RESIDENCE - PORCH...| false|   false| 726|       7|  15|            67|     08B|     1164812|     1861251|2020|10/04/2020 03:43:...| 41.77487752|-87.671374872|(41.77487752, -87...|\n",
       "| 4144897|   HL474854|07/10/2005 03:00:...| 062XX S ABERDEEN ST|0430|           BATTERY|AGGRAVATED: OTHER...|              STREET| false|   false| 712|       7|  16|            68|     04B|     1170050|     1863524|2005|02/28/2018 03:56:...|41.781002663|-87.652107119|(41.781002663, -8...|\n",
       "| 1744168|    G553545|09/15/2001 02:00:...|     013XX W POLK ST|0460|           BATTERY|              SIMPLE|              STREET| false|   false|1213|      12|NULL|          NULL|     08B|        NULL|        NULL|2001|08/17/2015 03:03:...|        NULL|         NULL|                NULL|\n",
       "|11641644|   JC207234|03/31/2019 09:30:...|   005XX N ogden ave|0890|             THEFT|       FROM BUILDING|          RESTAURANT| false|   false|1215|      12|   1|            24|      06|        NULL|        NULL|2019|04/07/2019 04:05:...|        NULL|         NULL|                NULL|\n",
       "|11615821|   JC176668|01/01/2016 12:00:...| 054XX N NATCHEZ AVE|1195|DECEPTIVE PRACTICE|FINAN EXPLOIT-ELD...|           RESIDENCE| false|    true|1613|      16|  45|            10|      11|        NULL|        NULL|2016|03/08/2019 04:36:...|        NULL|         NULL|                NULL|\n",
       "|12126129|   JD321064|08/04/2020 08:28:...| 081XX S LOOMIS BLVD|143A| WEAPONS VIOLATION|UNLAWFUL POSSESSI...|              STREET|  true|   false| 613|       6|  21|            71|      15|     1168412|     1850836|2020|08/11/2020 03:42:...|41.746220584|-87.658477307|(41.746220584, -8...|\n",
       "+--------+-----------+--------------------+--------------------+----+------------------+--------------------+--------------------+------+--------+----+--------+----+--------------+--------+------------+------------+----+--------------------+------------+-------------+--------------------+\n",
       "only showing top 20 rows"
      ]
     },
     "execution_count": 6,
     "metadata": {},
     "output_type": "execute_result"
    }
   ],
   "source": [
    "spark = SparkSession.builder.appName(\"Read CSV with PySpark\").getOrCreate()\n",
    "\n",
    "df_spark = spark.read.csv(\"data/crimes_data.csv\", header=True, inferSchema=True)\n",
    "\n",
    "df_spark"
   ]
  },
  {
   "cell_type": "code",
   "execution_count": 7,
   "id": "a03bde82-5d1e-455f-bd9b-1c967d3f1af1",
   "metadata": {
    "id": "a03bde82-5d1e-455f-bd9b-1c967d3f1af1",
    "outputId": "8a71bc2b-1550-4872-bd14-721b004400e5",
    "tags": []
   },
   "outputs": [
    {
     "name": "stdout",
     "output_type": "stream",
     "text": [
      "root\n",
      " |-- ID: integer (nullable = true)\n",
      " |-- Case Number: string (nullable = true)\n",
      " |-- Date: string (nullable = true)\n",
      " |-- Block: string (nullable = true)\n",
      " |-- IUCR: string (nullable = true)\n",
      " |-- Primary Type: string (nullable = true)\n",
      " |-- Description: string (nullable = true)\n",
      " |-- Location Description: string (nullable = true)\n",
      " |-- Arrest: boolean (nullable = true)\n",
      " |-- Domestic: boolean (nullable = true)\n",
      " |-- Beat: integer (nullable = true)\n",
      " |-- District: integer (nullable = true)\n",
      " |-- Ward: integer (nullable = true)\n",
      " |-- Community Area: integer (nullable = true)\n",
      " |-- FBI Code: string (nullable = true)\n",
      " |-- X Coordinate: integer (nullable = true)\n",
      " |-- Y Coordinate: integer (nullable = true)\n",
      " |-- Year: integer (nullable = true)\n",
      " |-- Updated On: string (nullable = true)\n",
      " |-- Latitude: double (nullable = true)\n",
      " |-- Longitude: double (nullable = true)\n",
      " |-- Location: string (nullable = true)\n",
      "\n"
     ]
    }
   ],
   "source": [
    "type(df_spark)\n",
    "\n",
    "# Types des variables\n",
    "df_spark.printSchema()"
   ]
  },
  {
   "cell_type": "markdown",
   "id": "2df369f8-40f6-4b2a-80d9-06629162807d",
   "metadata": {
    "id": "2df369f8-40f6-4b2a-80d9-06629162807d",
    "jp-MarkdownHeadingCollapsed": true,
    "tags": []
   },
   "source": [
    "En Spark, il existe principalement deux types d'API pour manipuler les données :\n",
    "l'API DataFrame et l'API RDD (Resilient Distributed Dataset).\n",
    "\n",
    "Question : Décrire ces deux types d'API.\n",
    "\n",
    "\n",
    "1. API DataFrame ?\n",
    "\n",
    "\n",
    "2. API RDD (Resilient Distributed Dataset) ?\n",
    "\n",
    "\n",
    "En général, il est recommandé d'utiliser l'API DataFrame autant que possible car\n",
    "elle offre une syntaxe plus concise, une optimisation des requêtes et une meilleure\n",
    "intégration avec les autres bibliothèques de traitement des données en PySpark.\n",
    "Cependant, l'API RDD peut être utilisée lorsque des opérations plus avancées ou\n",
    "personnalisées sont nécessaires et que la flexibilité est primordiale."
   ]
  },
  {
   "cell_type": "markdown",
   "id": "f423016d-2510-45cc-b1f7-8be929e93fdf",
   "metadata": {
    "id": "f423016d-2510-45cc-b1f7-8be929e93fdf"
   },
   "source": [
    "Dans ce lab, nous utiliserons avec l'API DataFrame"
   ]
  },
  {
   "cell_type": "markdown",
   "id": "fce8fca2-f00a-4296-a731-bebb15202d14",
   "metadata": {
    "id": "fce8fca2-f00a-4296-a731-bebb15202d14"
   },
   "source": [
    "1 - Importation et Schéma des données\n",
    "Data disonible sur le site de la ville de Chicago aux USA :\n",
    "https://data.cityofchicago.org/Public-Safety/Crimes-2001-to-Present/ijzp-q8t2.\n",
    "\n",
    "\n",
    "Cet ensemble de données reflète les incidents criminels signalés (à l'exception des\n",
    "meurtres pour lesquels des données existent pour chaque victime) qui se sont\n",
    "produits dans la ville de Chicago de 2001 à aujourd'hui, moins les sept derniers\n",
    "jours. Les données sont extraites du système CLEAR (Citizen Law Enforcement\n",
    "Analysis and Reporting) du service de police de Chicago"
   ]
  },
  {
   "cell_type": "code",
   "execution_count": 8,
   "id": "ef449b0d-0efc-42c1-99a7-19705e829311",
   "metadata": {
    "id": "ef449b0d-0efc-42c1-99a7-19705e829311"
   },
   "outputs": [],
   "source": [
    "# Lecture du fichier csv avec PySpark (à faire)\n"
   ]
  },
  {
   "cell_type": "code",
   "execution_count": 9,
   "id": "7b6961c8-dee3-4dc6-8c92-fe8d49faf707",
   "metadata": {
    "id": "7b6961c8-dee3-4dc6-8c92-fe8d49faf707",
    "tags": []
   },
   "outputs": [],
   "source": [
    "# Schema (à faire)"
   ]
  },
  {
   "cell_type": "markdown",
   "id": "3ca79118-d4d4-41d8-a50e-65b8c8a415ae",
   "metadata": {
    "id": "3ca79118-d4d4-41d8-a50e-65b8c8a415ae"
   },
   "source": [
    "La colonne 'Date' a été importée en tant que chaîne de\n",
    "caractères (type string) alors qu'il s'agit normalement d'une date (type timestamp).\n",
    "pour corriger cela:"
   ]
  },
  {
   "cell_type": "code",
   "execution_count": 10,
   "id": "d00f5a95-cb0b-4a42-8eaa-aa2fe0a9eeee",
   "metadata": {
    "id": "d00f5a95-cb0b-4a42-8eaa-aa2fe0a9eeee",
    "tags": []
   },
   "outputs": [
    {
     "name": "stdout",
     "output_type": "stream",
     "text": [
      "root\n",
      " |-- ID: integer (nullable = true)\n",
      " |-- Case Number: string (nullable = true)\n",
      " |-- Date: timestamp (nullable = true)\n",
      " |-- Block: string (nullable = true)\n",
      " |-- IUCR: string (nullable = true)\n",
      " |-- Primary Type: string (nullable = true)\n",
      " |-- Description: string (nullable = true)\n",
      " |-- Location Description: string (nullable = true)\n",
      " |-- Arrest: boolean (nullable = true)\n",
      " |-- Domestic: boolean (nullable = true)\n",
      " |-- Beat: integer (nullable = true)\n",
      " |-- District: integer (nullable = true)\n",
      " |-- Ward: integer (nullable = true)\n",
      " |-- Community Area: integer (nullable = true)\n",
      " |-- FBI Code: string (nullable = true)\n",
      " |-- X Coordinate: integer (nullable = true)\n",
      " |-- Y Coordinate: integer (nullable = true)\n",
      " |-- Year: integer (nullable = true)\n",
      " |-- Updated On: string (nullable = true)\n",
      " |-- Latitude: double (nullable = true)\n",
      " |-- Longitude: double (nullable = true)\n",
      " |-- Location: string (nullable = true)\n",
      "\n"
     ]
    }
   ],
   "source": [
    "# Réimportation du jeu de données (à faire)\n",
    "from pyspark.sql.functions import to_timestamp\n",
    "df_spark_good_type = df_spark.withColumn(\"Date\", to_timestamp(df_spark[\"Date\"], \"MM/dd/yyyy hh:mm:ss a\"))\n",
    "\n",
    "# Afficher le schéma après conversion\n",
    "df_spark_good_type.printSchema()"
   ]
  },
  {
   "cell_type": "markdown",
   "id": "83fd315b-9496-4c00-8815-2002020053f1",
   "metadata": {
    "id": "83fd315b-9496-4c00-8815-2002020053f1"
   },
   "source": [
    "2- Manipulation colonne"
   ]
  },
  {
   "cell_type": "code",
   "execution_count": 11,
   "id": "4f8add36-0fd3-4024-9e8d-629a8100cf6f",
   "metadata": {
    "id": "4f8add36-0fd3-4024-9e8d-629a8100cf6f",
    "tags": []
   },
   "outputs": [
    {
     "name": "stdout",
     "output_type": "stream",
     "text": [
      "root\n",
      " |-- ID: integer (nullable = true)\n",
      " |-- Case Number: string (nullable = true)\n",
      " |-- Date: string (nullable = true)\n",
      " |-- Block: string (nullable = true)\n",
      " |-- IUCR: string (nullable = true)\n",
      " |-- Primary Type: string (nullable = true)\n",
      " |-- Description: string (nullable = true)\n",
      " |-- Location Description: string (nullable = true)\n",
      " |-- Arrest: boolean (nullable = true)\n",
      " |-- Domestic: boolean (nullable = true)\n",
      " |-- Beat: integer (nullable = true)\n",
      " |-- District: integer (nullable = true)\n",
      " |-- Ward: integer (nullable = true)\n",
      " |-- Community Area: integer (nullable = true)\n",
      " |-- FBI Code: string (nullable = true)\n",
      " |-- Year: integer (nullable = true)\n",
      " |-- Updated On: string (nullable = true)\n",
      " |-- Latitude: double (nullable = true)\n",
      " |-- Longitude: double (nullable = true)\n",
      "\n"
     ]
    },
    {
     "data": {
      "text/html": [
       "<table border='1'>\n",
       "<tr><th>ID</th><th>Case Number</th><th>Date</th><th>Block</th><th>IUCR</th><th>Primary Type</th><th>Description</th><th>Location Description</th><th>Arrest</th><th>Domestic</th><th>Beat</th><th>District</th><th>Ward</th><th>Community Area</th><th>FBI Code</th><th>Year</th><th>Updated On</th><th>Latitude</th><th>Longitude</th></tr>\n",
       "<tr><td>11037294</td><td>JA371270</td><td>03/18/2015 12:00:...</td><td>0000X W WACKER DR</td><td>1153</td><td>DECEPTIVE PRACTICE</td><td>FINANCIAL IDENTIT...</td><td>BANK</td><td>false</td><td>false</td><td>111</td><td>1</td><td>42</td><td>32</td><td>11</td><td>2015</td><td>08/01/2017 03:52:...</td><td>NULL</td><td>NULL</td></tr>\n",
       "<tr><td>11646293</td><td>JC213749</td><td>12/20/2018 03:00:...</td><td>023XX N LOCKWOOD AVE</td><td>1154</td><td>DECEPTIVE PRACTICE</td><td>FINANCIAL IDENTIT...</td><td>APARTMENT</td><td>false</td><td>false</td><td>2515</td><td>25</td><td>36</td><td>19</td><td>11</td><td>2018</td><td>04/06/2019 04:04:...</td><td>NULL</td><td>NULL</td></tr>\n",
       "<tr><td>11645836</td><td>JC212333</td><td>05/01/2016 12:25:...</td><td>055XX S ROCKWELL ST</td><td>1153</td><td>DECEPTIVE PRACTICE</td><td>FINANCIAL IDENTIT...</td><td>NULL</td><td>false</td><td>false</td><td>824</td><td>8</td><td>15</td><td>63</td><td>11</td><td>2016</td><td>04/06/2019 04:04:...</td><td>NULL</td><td>NULL</td></tr>\n",
       "<tr><td>11645959</td><td>JC211511</td><td>12/20/2018 04:00:...</td><td>045XX N ALBANY AVE</td><td>2820</td><td>OTHER OFFENSE</td><td>TELEPHONE THREAT</td><td>RESIDENCE</td><td>false</td><td>false</td><td>1724</td><td>17</td><td>33</td><td>14</td><td>08A</td><td>2018</td><td>04/06/2019 04:04:...</td><td>NULL</td><td>NULL</td></tr>\n",
       "<tr><td>11645601</td><td>JC212935</td><td>06/01/2014 12:01:...</td><td>087XX S SANGAMON ST</td><td>1153</td><td>DECEPTIVE PRACTICE</td><td>FINANCIAL IDENTIT...</td><td>RESIDENCE</td><td>false</td><td>false</td><td>2222</td><td>22</td><td>21</td><td>71</td><td>11</td><td>2014</td><td>04/06/2019 04:04:...</td><td>NULL</td><td>NULL</td></tr>\n",
       "<tr><td>11646166</td><td>JC213529</td><td>09/01/2018 12:01:...</td><td>082XX S INGLESIDE...</td><td>0810</td><td>THEFT</td><td>OVER $500</td><td>RESIDENCE</td><td>false</td><td>true</td><td>631</td><td>6</td><td>8</td><td>44</td><td>06</td><td>2018</td><td>04/06/2019 04:04:...</td><td>NULL</td><td>NULL</td></tr>\n",
       "<tr><td>11645648</td><td>JC212959</td><td>01/01/2018 08:00:...</td><td>024XX N MONITOR AVE</td><td>1153</td><td>DECEPTIVE PRACTICE</td><td>FINANCIAL IDENTIT...</td><td>RESIDENCE</td><td>false</td><td>false</td><td>2515</td><td>25</td><td>30</td><td>19</td><td>11</td><td>2018</td><td>04/06/2019 04:04:...</td><td>NULL</td><td>NULL</td></tr>\n",
       "<tr><td>11645557</td><td>JC212685</td><td>04/01/2018 12:01:...</td><td>080XX S VERNON AVE</td><td>1153</td><td>DECEPTIVE PRACTICE</td><td>FINANCIAL IDENTIT...</td><td>RESIDENCE</td><td>false</td><td>false</td><td>631</td><td>6</td><td>6</td><td>44</td><td>11</td><td>2018</td><td>04/06/2019 04:04:...</td><td>NULL</td><td>NULL</td></tr>\n",
       "<tr><td>11645527</td><td>JC212744</td><td>02/02/2015 10:00:...</td><td>069XX W ARCHER AVE</td><td>1153</td><td>DECEPTIVE PRACTICE</td><td>FINANCIAL IDENTIT...</td><td>OTHER</td><td>false</td><td>false</td><td>811</td><td>8</td><td>23</td><td>56</td><td>11</td><td>2015</td><td>04/06/2019 04:04:...</td><td>NULL</td><td>NULL</td></tr>\n",
       "<tr><td>11645833</td><td>JC213044</td><td>05/05/2012 12:25:...</td><td>057XX W OHIO ST</td><td>1153</td><td>DECEPTIVE PRACTICE</td><td>FINANCIAL IDENTIT...</td><td>NULL</td><td>false</td><td>false</td><td>1511</td><td>15</td><td>29</td><td>25</td><td>11</td><td>2012</td><td>04/06/2019 04:04:...</td><td>NULL</td><td>NULL</td></tr>\n",
       "<tr><td>11645568</td><td>JC212803</td><td>12/18/2018 11:00:...</td><td>032XX N WILTON AVE</td><td>1153</td><td>DECEPTIVE PRACTICE</td><td>FINANCIAL IDENTIT...</td><td>RESIDENCE</td><td>false</td><td>false</td><td>1924</td><td>19</td><td>44</td><td>6</td><td>11</td><td>2018</td><td>04/06/2019 04:04:...</td><td>NULL</td><td>NULL</td></tr>\n",
       "<tr><td>12045583</td><td>JD226426</td><td>05/07/2020 10:24:...</td><td>035XX S INDIANA AVE</td><td>0820</td><td>THEFT</td><td>$500 AND UNDER</td><td>APARTMENT</td><td>false</td><td>false</td><td>212</td><td>2</td><td>3</td><td>35</td><td>06</td><td>2020</td><td>05/14/2020 08:47:...</td><td>41.830481843</td><td>-87.621751752</td></tr>\n",
       "<tr><td>12031001</td><td>JD209965</td><td>04/16/2020 05:00:...</td><td>005XX W 32ND ST</td><td>0460</td><td>BATTERY</td><td>SIMPLE</td><td>APARTMENT</td><td>true</td><td>false</td><td>915</td><td>9</td><td>11</td><td>60</td><td>08B</td><td>2020</td><td>04/23/2020 03:45:...</td><td>41.836310224</td><td>-87.639624112</td></tr>\n",
       "<tr><td>12093529</td><td>JD282112</td><td>07/01/2020 10:16:...</td><td>081XX S COLES AVE</td><td>051A</td><td>ASSAULT</td><td>AGGRAVATED - HANDGUN</td><td>STREET</td><td>true</td><td>false</td><td>422</td><td>4</td><td>7</td><td>46</td><td>04A</td><td>2020</td><td>07/08/2020 03:41:...</td><td>41.747609555</td><td>-87.549179329</td></tr>\n",
       "<tr><td>12178140</td><td>JD381597</td><td>09/27/2020 11:29:...</td><td>065XX S WOLCOTT AVE</td><td>0460</td><td>BATTERY</td><td>SIMPLE</td><td>RESIDENCE - PORCH...</td><td>false</td><td>false</td><td>726</td><td>7</td><td>15</td><td>67</td><td>08B</td><td>2020</td><td>10/04/2020 03:43:...</td><td>41.77487752</td><td>-87.671374872</td></tr>\n",
       "<tr><td>4144897</td><td>HL474854</td><td>07/10/2005 03:00:...</td><td>062XX S ABERDEEN ST</td><td>0430</td><td>BATTERY</td><td>AGGRAVATED: OTHER...</td><td>STREET</td><td>false</td><td>false</td><td>712</td><td>7</td><td>16</td><td>68</td><td>04B</td><td>2005</td><td>02/28/2018 03:56:...</td><td>41.781002663</td><td>-87.652107119</td></tr>\n",
       "<tr><td>1744168</td><td>G553545</td><td>09/15/2001 02:00:...</td><td>013XX W POLK ST</td><td>0460</td><td>BATTERY</td><td>SIMPLE</td><td>STREET</td><td>false</td><td>false</td><td>1213</td><td>12</td><td>NULL</td><td>NULL</td><td>08B</td><td>2001</td><td>08/17/2015 03:03:...</td><td>NULL</td><td>NULL</td></tr>\n",
       "<tr><td>11641644</td><td>JC207234</td><td>03/31/2019 09:30:...</td><td>005XX N ogden ave</td><td>0890</td><td>THEFT</td><td>FROM BUILDING</td><td>RESTAURANT</td><td>false</td><td>false</td><td>1215</td><td>12</td><td>1</td><td>24</td><td>06</td><td>2019</td><td>04/07/2019 04:05:...</td><td>NULL</td><td>NULL</td></tr>\n",
       "<tr><td>11615821</td><td>JC176668</td><td>01/01/2016 12:00:...</td><td>054XX N NATCHEZ AVE</td><td>1195</td><td>DECEPTIVE PRACTICE</td><td>FINAN EXPLOIT-ELD...</td><td>RESIDENCE</td><td>false</td><td>true</td><td>1613</td><td>16</td><td>45</td><td>10</td><td>11</td><td>2016</td><td>03/08/2019 04:36:...</td><td>NULL</td><td>NULL</td></tr>\n",
       "<tr><td>12126129</td><td>JD321064</td><td>08/04/2020 08:28:...</td><td>081XX S LOOMIS BLVD</td><td>143A</td><td>WEAPONS VIOLATION</td><td>UNLAWFUL POSSESSI...</td><td>STREET</td><td>true</td><td>false</td><td>613</td><td>6</td><td>21</td><td>71</td><td>15</td><td>2020</td><td>08/11/2020 03:42:...</td><td>41.746220584</td><td>-87.658477307</td></tr>\n",
       "</table>\n",
       "only showing top 20 rows\n"
      ],
      "text/plain": [
       "+--------+-----------+--------------------+--------------------+----+------------------+--------------------+--------------------+------+--------+----+--------+----+--------------+--------+----+--------------------+------------+-------------+\n",
       "|      ID|Case Number|                Date|               Block|IUCR|      Primary Type|         Description|Location Description|Arrest|Domestic|Beat|District|Ward|Community Area|FBI Code|Year|          Updated On|    Latitude|    Longitude|\n",
       "+--------+-----------+--------------------+--------------------+----+------------------+--------------------+--------------------+------+--------+----+--------+----+--------------+--------+----+--------------------+------------+-------------+\n",
       "|11037294|   JA371270|03/18/2015 12:00:...|   0000X W WACKER DR|1153|DECEPTIVE PRACTICE|FINANCIAL IDENTIT...|                BANK| false|   false| 111|       1|  42|            32|      11|2015|08/01/2017 03:52:...|        NULL|         NULL|\n",
       "|11646293|   JC213749|12/20/2018 03:00:...|023XX N LOCKWOOD AVE|1154|DECEPTIVE PRACTICE|FINANCIAL IDENTIT...|           APARTMENT| false|   false|2515|      25|  36|            19|      11|2018|04/06/2019 04:04:...|        NULL|         NULL|\n",
       "|11645836|   JC212333|05/01/2016 12:25:...| 055XX S ROCKWELL ST|1153|DECEPTIVE PRACTICE|FINANCIAL IDENTIT...|                NULL| false|   false| 824|       8|  15|            63|      11|2016|04/06/2019 04:04:...|        NULL|         NULL|\n",
       "|11645959|   JC211511|12/20/2018 04:00:...|  045XX N ALBANY AVE|2820|     OTHER OFFENSE|    TELEPHONE THREAT|           RESIDENCE| false|   false|1724|      17|  33|            14|     08A|2018|04/06/2019 04:04:...|        NULL|         NULL|\n",
       "|11645601|   JC212935|06/01/2014 12:01:...| 087XX S SANGAMON ST|1153|DECEPTIVE PRACTICE|FINANCIAL IDENTIT...|           RESIDENCE| false|   false|2222|      22|  21|            71|      11|2014|04/06/2019 04:04:...|        NULL|         NULL|\n",
       "|11646166|   JC213529|09/01/2018 12:01:...|082XX S INGLESIDE...|0810|             THEFT|           OVER $500|           RESIDENCE| false|    true| 631|       6|   8|            44|      06|2018|04/06/2019 04:04:...|        NULL|         NULL|\n",
       "|11645648|   JC212959|01/01/2018 08:00:...| 024XX N MONITOR AVE|1153|DECEPTIVE PRACTICE|FINANCIAL IDENTIT...|           RESIDENCE| false|   false|2515|      25|  30|            19|      11|2018|04/06/2019 04:04:...|        NULL|         NULL|\n",
       "|11645557|   JC212685|04/01/2018 12:01:...|  080XX S VERNON AVE|1153|DECEPTIVE PRACTICE|FINANCIAL IDENTIT...|           RESIDENCE| false|   false| 631|       6|   6|            44|      11|2018|04/06/2019 04:04:...|        NULL|         NULL|\n",
       "|11645527|   JC212744|02/02/2015 10:00:...|  069XX W ARCHER AVE|1153|DECEPTIVE PRACTICE|FINANCIAL IDENTIT...|               OTHER| false|   false| 811|       8|  23|            56|      11|2015|04/06/2019 04:04:...|        NULL|         NULL|\n",
       "|11645833|   JC213044|05/05/2012 12:25:...|     057XX W OHIO ST|1153|DECEPTIVE PRACTICE|FINANCIAL IDENTIT...|                NULL| false|   false|1511|      15|  29|            25|      11|2012|04/06/2019 04:04:...|        NULL|         NULL|\n",
       "|11645568|   JC212803|12/18/2018 11:00:...|  032XX N WILTON AVE|1153|DECEPTIVE PRACTICE|FINANCIAL IDENTIT...|           RESIDENCE| false|   false|1924|      19|  44|             6|      11|2018|04/06/2019 04:04:...|        NULL|         NULL|\n",
       "|12045583|   JD226426|05/07/2020 10:24:...| 035XX S INDIANA AVE|0820|             THEFT|      $500 AND UNDER|           APARTMENT| false|   false| 212|       2|   3|            35|      06|2020|05/14/2020 08:47:...|41.830481843|-87.621751752|\n",
       "|12031001|   JD209965|04/16/2020 05:00:...|     005XX W 32ND ST|0460|           BATTERY|              SIMPLE|           APARTMENT|  true|   false| 915|       9|  11|            60|     08B|2020|04/23/2020 03:45:...|41.836310224|-87.639624112|\n",
       "|12093529|   JD282112|07/01/2020 10:16:...|   081XX S COLES AVE|051A|           ASSAULT|AGGRAVATED - HANDGUN|              STREET|  true|   false| 422|       4|   7|            46|     04A|2020|07/08/2020 03:41:...|41.747609555|-87.549179329|\n",
       "|12178140|   JD381597|09/27/2020 11:29:...| 065XX S WOLCOTT AVE|0460|           BATTERY|              SIMPLE|RESIDENCE - PORCH...| false|   false| 726|       7|  15|            67|     08B|2020|10/04/2020 03:43:...| 41.77487752|-87.671374872|\n",
       "| 4144897|   HL474854|07/10/2005 03:00:...| 062XX S ABERDEEN ST|0430|           BATTERY|AGGRAVATED: OTHER...|              STREET| false|   false| 712|       7|  16|            68|     04B|2005|02/28/2018 03:56:...|41.781002663|-87.652107119|\n",
       "| 1744168|    G553545|09/15/2001 02:00:...|     013XX W POLK ST|0460|           BATTERY|              SIMPLE|              STREET| false|   false|1213|      12|NULL|          NULL|     08B|2001|08/17/2015 03:03:...|        NULL|         NULL|\n",
       "|11641644|   JC207234|03/31/2019 09:30:...|   005XX N ogden ave|0890|             THEFT|       FROM BUILDING|          RESTAURANT| false|   false|1215|      12|   1|            24|      06|2019|04/07/2019 04:05:...|        NULL|         NULL|\n",
       "|11615821|   JC176668|01/01/2016 12:00:...| 054XX N NATCHEZ AVE|1195|DECEPTIVE PRACTICE|FINAN EXPLOIT-ELD...|           RESIDENCE| false|    true|1613|      16|  45|            10|      11|2016|03/08/2019 04:36:...|        NULL|         NULL|\n",
       "|12126129|   JD321064|08/04/2020 08:28:...| 081XX S LOOMIS BLVD|143A| WEAPONS VIOLATION|UNLAWFUL POSSESSI...|              STREET|  true|   false| 613|       6|  21|            71|      15|2020|08/11/2020 03:42:...|41.746220584|-87.658477307|\n",
       "+--------+-----------+--------------------+--------------------+----+------------------+--------------------+--------------------+------+--------+----+--------+----+--------------+--------+----+--------------------+------------+-------------+\n",
       "only showing top 20 rows"
      ]
     },
     "execution_count": 11,
     "metadata": {},
     "output_type": "execute_result"
    }
   ],
   "source": [
    "# Explorer differentes manipulations sur les colonnes\n",
    "#Sélection de la colonne\n",
    "\n",
    "# Suppression des colonnes inutiles\n",
    "df_spark_no_localisation = df_spark.drop(\"Location\", \"X Coordinate\", \"Y Coordinate\")\n",
    "\n",
    "# Afficher le schéma après suppression\n",
    "df_spark_no_localisation.printSchema()\n",
    "\n",
    "# Afficher les premières lignes après suppression\n",
    "df_spark_no_localisation\n",
    "\n"
   ]
  },
  {
   "cell_type": "code",
   "execution_count": 12,
   "id": "2d174208-514c-4bb8-8f97-2f6bbdf223bd",
   "metadata": {},
   "outputs": [
    {
     "data": {
      "text/html": [
       "<table border='1'>\n",
       "<tr><th>IUCR</th></tr>\n",
       "<tr><td>1153</td></tr>\n",
       "<tr><td>1154</td></tr>\n",
       "<tr><td>1153</td></tr>\n",
       "<tr><td>2820</td></tr>\n",
       "<tr><td>1153</td></tr>\n",
       "<tr><td>0810</td></tr>\n",
       "<tr><td>1153</td></tr>\n",
       "<tr><td>1153</td></tr>\n",
       "<tr><td>1153</td></tr>\n",
       "<tr><td>1153</td></tr>\n",
       "<tr><td>1153</td></tr>\n",
       "<tr><td>0820</td></tr>\n",
       "<tr><td>0460</td></tr>\n",
       "<tr><td>051A</td></tr>\n",
       "<tr><td>0460</td></tr>\n",
       "<tr><td>0430</td></tr>\n",
       "<tr><td>0460</td></tr>\n",
       "<tr><td>0890</td></tr>\n",
       "<tr><td>1195</td></tr>\n",
       "<tr><td>143A</td></tr>\n",
       "</table>\n",
       "only showing top 20 rows\n"
      ],
      "text/plain": [
       "+----+\n",
       "|IUCR|\n",
       "+----+\n",
       "|1153|\n",
       "|1154|\n",
       "|1153|\n",
       "|2820|\n",
       "|1153|\n",
       "|0810|\n",
       "|1153|\n",
       "|1153|\n",
       "|1153|\n",
       "|1153|\n",
       "|1153|\n",
       "|0820|\n",
       "|0460|\n",
       "|051A|\n",
       "|0460|\n",
       "|0430|\n",
       "|0460|\n",
       "|0890|\n",
       "|1195|\n",
       "|143A|\n",
       "+----+\n",
       "only showing top 20 rows"
      ]
     },
     "execution_count": 12,
     "metadata": {},
     "output_type": "execute_result"
    }
   ],
   "source": [
    "df_spark_no_localisation.select('IUCR')"
   ]
  },
  {
   "cell_type": "code",
   "execution_count": 13,
   "id": "3f4ac09a-46fe-4037-8766-6732b0410c20",
   "metadata": {},
   "outputs": [
    {
     "data": {
      "text/html": [
       "<table border='1'>\n",
       "<tr><th>Case Number</th><th>Date</th><th>Arrest</th></tr>\n",
       "<tr><td>JA371270</td><td>03/18/2015 12:00:...</td><td>false</td></tr>\n",
       "<tr><td>JC213749</td><td>12/20/2018 03:00:...</td><td>false</td></tr>\n",
       "<tr><td>JC212333</td><td>05/01/2016 12:25:...</td><td>false</td></tr>\n",
       "<tr><td>JC211511</td><td>12/20/2018 04:00:...</td><td>false</td></tr>\n",
       "<tr><td>JC212935</td><td>06/01/2014 12:01:...</td><td>false</td></tr>\n",
       "<tr><td>JC213529</td><td>09/01/2018 12:01:...</td><td>false</td></tr>\n",
       "<tr><td>JC212959</td><td>01/01/2018 08:00:...</td><td>false</td></tr>\n",
       "<tr><td>JC212685</td><td>04/01/2018 12:01:...</td><td>false</td></tr>\n",
       "<tr><td>JC212744</td><td>02/02/2015 10:00:...</td><td>false</td></tr>\n",
       "<tr><td>JC213044</td><td>05/05/2012 12:25:...</td><td>false</td></tr>\n",
       "<tr><td>JC212803</td><td>12/18/2018 11:00:...</td><td>false</td></tr>\n",
       "<tr><td>JD226426</td><td>05/07/2020 10:24:...</td><td>false</td></tr>\n",
       "<tr><td>JD209965</td><td>04/16/2020 05:00:...</td><td>true</td></tr>\n",
       "<tr><td>JD282112</td><td>07/01/2020 10:16:...</td><td>true</td></tr>\n",
       "<tr><td>JD381597</td><td>09/27/2020 11:29:...</td><td>false</td></tr>\n",
       "<tr><td>HL474854</td><td>07/10/2005 03:00:...</td><td>false</td></tr>\n",
       "<tr><td>G553545</td><td>09/15/2001 02:00:...</td><td>false</td></tr>\n",
       "<tr><td>JC207234</td><td>03/31/2019 09:30:...</td><td>false</td></tr>\n",
       "<tr><td>JC176668</td><td>01/01/2016 12:00:...</td><td>false</td></tr>\n",
       "<tr><td>JD321064</td><td>08/04/2020 08:28:...</td><td>true</td></tr>\n",
       "</table>\n",
       "only showing top 20 rows\n"
      ],
      "text/plain": [
       "+-----------+--------------------+------+\n",
       "|Case Number|                Date|Arrest|\n",
       "+-----------+--------------------+------+\n",
       "|   JA371270|03/18/2015 12:00:...| false|\n",
       "|   JC213749|12/20/2018 03:00:...| false|\n",
       "|   JC212333|05/01/2016 12:25:...| false|\n",
       "|   JC211511|12/20/2018 04:00:...| false|\n",
       "|   JC212935|06/01/2014 12:01:...| false|\n",
       "|   JC213529|09/01/2018 12:01:...| false|\n",
       "|   JC212959|01/01/2018 08:00:...| false|\n",
       "|   JC212685|04/01/2018 12:01:...| false|\n",
       "|   JC212744|02/02/2015 10:00:...| false|\n",
       "|   JC213044|05/05/2012 12:25:...| false|\n",
       "|   JC212803|12/18/2018 11:00:...| false|\n",
       "|   JD226426|05/07/2020 10:24:...| false|\n",
       "|   JD209965|04/16/2020 05:00:...|  true|\n",
       "|   JD282112|07/01/2020 10:16:...|  true|\n",
       "|   JD381597|09/27/2020 11:29:...| false|\n",
       "|   HL474854|07/10/2005 03:00:...| false|\n",
       "|    G553545|09/15/2001 02:00:...| false|\n",
       "|   JC207234|03/31/2019 09:30:...| false|\n",
       "|   JC176668|01/01/2016 12:00:...| false|\n",
       "|   JD321064|08/04/2020 08:28:...|  true|\n",
       "+-----------+--------------------+------+\n",
       "only showing top 20 rows"
      ]
     },
     "execution_count": 13,
     "metadata": {},
     "output_type": "execute_result"
    }
   ],
   "source": [
    "df_spark_no_localisation.select('Case Number', 'Date', 'Arrest')"
   ]
  },
  {
   "cell_type": "markdown",
   "id": "073ab5d5-6a7d-4cf5-b9fe-5c567a9dbabf",
   "metadata": {
    "id": "073ab5d5-6a7d-4cf5-b9fe-5c567a9dbabf"
   },
   "source": [
    "3- Manipulation des lignes"
   ]
  },
  {
   "cell_type": "code",
   "execution_count": 14,
   "id": "4700eee9-0827-4fbf-8cdb-82ad4e088ad4",
   "metadata": {
    "id": "4700eee9-0827-4fbf-8cdb-82ad4e088ad4",
    "tags": []
   },
   "outputs": [
    {
     "name": "stdout",
     "output_type": "stream",
     "text": [
      "Nombre de crimes en 2018 : 269041\n"
     ]
    },
    {
     "data": {
      "text/html": [
       "<table border='1'>\n",
       "<tr><th>ID</th><th>Case Number</th><th>Date</th><th>Block</th><th>IUCR</th><th>Primary Type</th><th>Description</th><th>Location Description</th><th>Arrest</th><th>Domestic</th><th>Beat</th><th>District</th><th>Ward</th><th>Community Area</th><th>FBI Code</th><th>X Coordinate</th><th>Y Coordinate</th><th>Year</th><th>Updated On</th><th>Latitude</th><th>Longitude</th><th>Location</th></tr>\n",
       "<tr><td>11646293</td><td>JC213749</td><td>12/20/2018 03:00:...</td><td>023XX N LOCKWOOD AVE</td><td>1154</td><td>DECEPTIVE PRACTICE</td><td>FINANCIAL IDENTIT...</td><td>APARTMENT</td><td>false</td><td>false</td><td>2515</td><td>25</td><td>36</td><td>19</td><td>11</td><td>NULL</td><td>NULL</td><td>2018</td><td>04/06/2019 04:04:...</td><td>NULL</td><td>NULL</td><td>NULL</td></tr>\n",
       "<tr><td>11645959</td><td>JC211511</td><td>12/20/2018 04:00:...</td><td>045XX N ALBANY AVE</td><td>2820</td><td>OTHER OFFENSE</td><td>TELEPHONE THREAT</td><td>RESIDENCE</td><td>false</td><td>false</td><td>1724</td><td>17</td><td>33</td><td>14</td><td>08A</td><td>NULL</td><td>NULL</td><td>2018</td><td>04/06/2019 04:04:...</td><td>NULL</td><td>NULL</td><td>NULL</td></tr>\n",
       "<tr><td>11646166</td><td>JC213529</td><td>09/01/2018 12:01:...</td><td>082XX S INGLESIDE...</td><td>0810</td><td>THEFT</td><td>OVER $500</td><td>RESIDENCE</td><td>false</td><td>true</td><td>631</td><td>6</td><td>8</td><td>44</td><td>06</td><td>NULL</td><td>NULL</td><td>2018</td><td>04/06/2019 04:04:...</td><td>NULL</td><td>NULL</td><td>NULL</td></tr>\n",
       "<tr><td>11645648</td><td>JC212959</td><td>01/01/2018 08:00:...</td><td>024XX N MONITOR AVE</td><td>1153</td><td>DECEPTIVE PRACTICE</td><td>FINANCIAL IDENTIT...</td><td>RESIDENCE</td><td>false</td><td>false</td><td>2515</td><td>25</td><td>30</td><td>19</td><td>11</td><td>NULL</td><td>NULL</td><td>2018</td><td>04/06/2019 04:04:...</td><td>NULL</td><td>NULL</td><td>NULL</td></tr>\n",
       "<tr><td>11645557</td><td>JC212685</td><td>04/01/2018 12:01:...</td><td>080XX S VERNON AVE</td><td>1153</td><td>DECEPTIVE PRACTICE</td><td>FINANCIAL IDENTIT...</td><td>RESIDENCE</td><td>false</td><td>false</td><td>631</td><td>6</td><td>6</td><td>44</td><td>11</td><td>NULL</td><td>NULL</td><td>2018</td><td>04/06/2019 04:04:...</td><td>NULL</td><td>NULL</td><td>NULL</td></tr>\n",
       "<tr><td>11645568</td><td>JC212803</td><td>12/18/2018 11:00:...</td><td>032XX N WILTON AVE</td><td>1153</td><td>DECEPTIVE PRACTICE</td><td>FINANCIAL IDENTIT...</td><td>RESIDENCE</td><td>false</td><td>false</td><td>1924</td><td>19</td><td>44</td><td>6</td><td>11</td><td>NULL</td><td>NULL</td><td>2018</td><td>04/06/2019 04:04:...</td><td>NULL</td><td>NULL</td><td>NULL</td></tr>\n",
       "<tr><td>11641400</td><td>JC207897</td><td>07/26/2018 01:00:...</td><td>041XX N KEELER AVE</td><td>1130</td><td>DECEPTIVE PRACTICE</td><td>FRAUD OR CONFIDEN...</td><td>RESIDENCE</td><td>false</td><td>false</td><td>1722</td><td>17</td><td>39</td><td>16</td><td>11</td><td>NULL</td><td>NULL</td><td>2018</td><td>04/02/2019 04:10:...</td><td>NULL</td><td>NULL</td><td>NULL</td></tr>\n",
       "<tr><td>11646766</td><td>JC214025</td><td>01/01/2018 09:10:...</td><td>019XX N KENMORE AVE</td><td>1153</td><td>DECEPTIVE PRACTICE</td><td>FINANCIAL IDENTIT...</td><td>NULL</td><td>false</td><td>false</td><td>1811</td><td>18</td><td>43</td><td>7</td><td>11</td><td>NULL</td><td>NULL</td><td>2018</td><td>04/07/2019 04:05:...</td><td>NULL</td><td>NULL</td><td>NULL</td></tr>\n",
       "<tr><td>11646550</td><td>JC214099</td><td>10/04/2018 12:00:...</td><td>092XX S PERRY AVE</td><td>1120</td><td>DECEPTIVE PRACTICE</td><td>FORGERY</td><td>OTHER</td><td>false</td><td>false</td><td>634</td><td>6</td><td>21</td><td>49</td><td>10</td><td>NULL</td><td>NULL</td><td>2018</td><td>04/07/2019 04:05:...</td><td>NULL</td><td>NULL</td><td>NULL</td></tr>\n",
       "<tr><td>11647549</td><td>JC214237</td><td>06/07/2018 03:00:...</td><td>102XX S EGGLESTON...</td><td>0820</td><td>THEFT</td><td>$500 AND UNDER</td><td>OTHER</td><td>false</td><td>false</td><td>2232</td><td>22</td><td>9</td><td>73</td><td>06</td><td>NULL</td><td>NULL</td><td>2018</td><td>04/09/2019 04:17:...</td><td>NULL</td><td>NULL</td><td>NULL</td></tr>\n",
       "<tr><td>11646393</td><td>JC213889</td><td>12/01/2018 08:00:...</td><td>026XX W 25TH ST</td><td>1153</td><td>DECEPTIVE PRACTICE</td><td>FINANCIAL IDENTIT...</td><td>RESIDENCE</td><td>false</td><td>false</td><td>1034</td><td>10</td><td>24</td><td>30</td><td>11</td><td>NULL</td><td>NULL</td><td>2018</td><td>04/07/2019 04:05:...</td><td>NULL</td><td>NULL</td><td>NULL</td></tr>\n",
       "<tr><td>11647523</td><td>JC215281</td><td>11/11/2018 12:01:...</td><td>016XX W WALLEN AVE</td><td>1140</td><td>DECEPTIVE PRACTICE</td><td>EMBEZZLEMENT</td><td>APARTMENT</td><td>false</td><td>false</td><td>2432</td><td>24</td><td>49</td><td>1</td><td>12</td><td>NULL</td><td>NULL</td><td>2018</td><td>04/08/2019 04:19:...</td><td>NULL</td><td>NULL</td><td>NULL</td></tr>\n",
       "<tr><td>11648173</td><td>JC216048</td><td>11/01/2018 12:00:...</td><td>062XX S MARSHFIEL...</td><td>1153</td><td>DECEPTIVE PRACTICE</td><td>FINANCIAL IDENTIT...</td><td>APARTMENT</td><td>false</td><td>false</td><td>714</td><td>7</td><td>16</td><td>67</td><td>11</td><td>NULL</td><td>NULL</td><td>2018</td><td>04/08/2019 04:19:...</td><td>NULL</td><td>NULL</td><td>NULL</td></tr>\n",
       "<tr><td>11445072</td><td>JB415614</td><td>08/30/2018 07:45:...</td><td>031XX W HARRISON ST</td><td>2027</td><td>NARCOTICS</td><td>POSS: CRACK</td><td>POLICE FACILITY/V...</td><td>true</td><td>false</td><td>1134</td><td>11</td><td>24</td><td>27</td><td>18</td><td>NULL</td><td>NULL</td><td>2018</td><td>04/13/2019 03:55:...</td><td>NULL</td><td>NULL</td><td>NULL</td></tr>\n",
       "<tr><td>11645849</td><td>JC209353</td><td>11/27/2018 08:43:...</td><td>0000X E CERMAK RD</td><td>2250</td><td>LIQUOR LAW VIOLATION</td><td>LIQUOR LICENSE VI...</td><td>TAVERN/LIQUOR STORE</td><td>true</td><td>false</td><td>131</td><td>1</td><td>3</td><td>33</td><td>22</td><td>NULL</td><td>NULL</td><td>2018</td><td>04/09/2019 04:17:...</td><td>NULL</td><td>NULL</td><td>NULL</td></tr>\n",
       "<tr><td>11451058</td><td>JB397122</td><td>08/17/2018 10:15:...</td><td>038XX W MONROE ST</td><td>2014</td><td>NARCOTICS</td><td>MANU/DELIVER: HER...</td><td>VEHICLE NON-COMME...</td><td>true</td><td>false</td><td>1122</td><td>11</td><td>28</td><td>26</td><td>18</td><td>NULL</td><td>NULL</td><td>2018</td><td>04/09/2019 04:24:...</td><td>NULL</td><td>NULL</td><td>NULL</td></tr>\n",
       "<tr><td>11648485</td><td>JC216504</td><td>11/01/2018 12:00:...</td><td>076XX S PAXTON AVE</td><td>1130</td><td>DECEPTIVE PRACTICE</td><td>FRAUD OR CONFIDEN...</td><td>RESIDENCE</td><td>false</td><td>false</td><td>414</td><td>4</td><td>8</td><td>43</td><td>11</td><td>NULL</td><td>NULL</td><td>2018</td><td>04/09/2019 04:24:...</td><td>NULL</td><td>NULL</td><td>NULL</td></tr>\n",
       "<tr><td>11649199</td><td>JC217367</td><td>11/23/2018 08:00:...</td><td>070XX N WESTERN AVE</td><td>1153</td><td>DECEPTIVE PRACTICE</td><td>FINANCIAL IDENTIT...</td><td>SMALL RETAIL STORE</td><td>false</td><td>false</td><td>2411</td><td>24</td><td>50</td><td>2</td><td>11</td><td>NULL</td><td>NULL</td><td>2018</td><td>04/09/2019 04:24:...</td><td>NULL</td><td>NULL</td><td>NULL</td></tr>\n",
       "<tr><td>11649227</td><td>JC217417</td><td>12/26/2018 01:00:...</td><td>073XX N RIDGE BLVD</td><td>0810</td><td>THEFT</td><td>OVER $500</td><td>RESIDENCE</td><td>false</td><td>false</td><td>2424</td><td>24</td><td>49</td><td>1</td><td>06</td><td>NULL</td><td>NULL</td><td>2018</td><td>04/09/2019 04:24:...</td><td>NULL</td><td>NULL</td><td>NULL</td></tr>\n",
       "<tr><td>11649962</td><td>JC218252</td><td>01/16/2018 10:25:...</td><td>087XX S BISHOP ST</td><td>1153</td><td>DECEPTIVE PRACTICE</td><td>FINANCIAL IDENTIT...</td><td>NULL</td><td>false</td><td>false</td><td>2222</td><td>22</td><td>21</td><td>71</td><td>11</td><td>NULL</td><td>NULL</td><td>2018</td><td>04/10/2019 04:14:...</td><td>NULL</td><td>NULL</td><td>NULL</td></tr>\n",
       "</table>\n",
       "only showing top 20 rows\n"
      ],
      "text/plain": [
       "+--------+-----------+--------------------+--------------------+----+--------------------+--------------------+--------------------+------+--------+----+--------+----+--------------+--------+------------+------------+----+--------------------+--------+---------+--------+\n",
       "|      ID|Case Number|                Date|               Block|IUCR|        Primary Type|         Description|Location Description|Arrest|Domestic|Beat|District|Ward|Community Area|FBI Code|X Coordinate|Y Coordinate|Year|          Updated On|Latitude|Longitude|Location|\n",
       "+--------+-----------+--------------------+--------------------+----+--------------------+--------------------+--------------------+------+--------+----+--------+----+--------------+--------+------------+------------+----+--------------------+--------+---------+--------+\n",
       "|11646293|   JC213749|12/20/2018 03:00:...|023XX N LOCKWOOD AVE|1154|  DECEPTIVE PRACTICE|FINANCIAL IDENTIT...|           APARTMENT| false|   false|2515|      25|  36|            19|      11|        NULL|        NULL|2018|04/06/2019 04:04:...|    NULL|     NULL|    NULL|\n",
       "|11645959|   JC211511|12/20/2018 04:00:...|  045XX N ALBANY AVE|2820|       OTHER OFFENSE|    TELEPHONE THREAT|           RESIDENCE| false|   false|1724|      17|  33|            14|     08A|        NULL|        NULL|2018|04/06/2019 04:04:...|    NULL|     NULL|    NULL|\n",
       "|11646166|   JC213529|09/01/2018 12:01:...|082XX S INGLESIDE...|0810|               THEFT|           OVER $500|           RESIDENCE| false|    true| 631|       6|   8|            44|      06|        NULL|        NULL|2018|04/06/2019 04:04:...|    NULL|     NULL|    NULL|\n",
       "|11645648|   JC212959|01/01/2018 08:00:...| 024XX N MONITOR AVE|1153|  DECEPTIVE PRACTICE|FINANCIAL IDENTIT...|           RESIDENCE| false|   false|2515|      25|  30|            19|      11|        NULL|        NULL|2018|04/06/2019 04:04:...|    NULL|     NULL|    NULL|\n",
       "|11645557|   JC212685|04/01/2018 12:01:...|  080XX S VERNON AVE|1153|  DECEPTIVE PRACTICE|FINANCIAL IDENTIT...|           RESIDENCE| false|   false| 631|       6|   6|            44|      11|        NULL|        NULL|2018|04/06/2019 04:04:...|    NULL|     NULL|    NULL|\n",
       "|11645568|   JC212803|12/18/2018 11:00:...|  032XX N WILTON AVE|1153|  DECEPTIVE PRACTICE|FINANCIAL IDENTIT...|           RESIDENCE| false|   false|1924|      19|  44|             6|      11|        NULL|        NULL|2018|04/06/2019 04:04:...|    NULL|     NULL|    NULL|\n",
       "|11641400|   JC207897|07/26/2018 01:00:...|  041XX N KEELER AVE|1130|  DECEPTIVE PRACTICE|FRAUD OR CONFIDEN...|           RESIDENCE| false|   false|1722|      17|  39|            16|      11|        NULL|        NULL|2018|04/02/2019 04:10:...|    NULL|     NULL|    NULL|\n",
       "|11646766|   JC214025|01/01/2018 09:10:...| 019XX N KENMORE AVE|1153|  DECEPTIVE PRACTICE|FINANCIAL IDENTIT...|                NULL| false|   false|1811|      18|  43|             7|      11|        NULL|        NULL|2018|04/07/2019 04:05:...|    NULL|     NULL|    NULL|\n",
       "|11646550|   JC214099|10/04/2018 12:00:...|   092XX S PERRY AVE|1120|  DECEPTIVE PRACTICE|             FORGERY|               OTHER| false|   false| 634|       6|  21|            49|      10|        NULL|        NULL|2018|04/07/2019 04:05:...|    NULL|     NULL|    NULL|\n",
       "|11647549|   JC214237|06/07/2018 03:00:...|102XX S EGGLESTON...|0820|               THEFT|      $500 AND UNDER|               OTHER| false|   false|2232|      22|   9|            73|      06|        NULL|        NULL|2018|04/09/2019 04:17:...|    NULL|     NULL|    NULL|\n",
       "|11646393|   JC213889|12/01/2018 08:00:...|     026XX W 25TH ST|1153|  DECEPTIVE PRACTICE|FINANCIAL IDENTIT...|           RESIDENCE| false|   false|1034|      10|  24|            30|      11|        NULL|        NULL|2018|04/07/2019 04:05:...|    NULL|     NULL|    NULL|\n",
       "|11647523|   JC215281|11/11/2018 12:01:...|  016XX W WALLEN AVE|1140|  DECEPTIVE PRACTICE|        EMBEZZLEMENT|           APARTMENT| false|   false|2432|      24|  49|             1|      12|        NULL|        NULL|2018|04/08/2019 04:19:...|    NULL|     NULL|    NULL|\n",
       "|11648173|   JC216048|11/01/2018 12:00:...|062XX S MARSHFIEL...|1153|  DECEPTIVE PRACTICE|FINANCIAL IDENTIT...|           APARTMENT| false|   false| 714|       7|  16|            67|      11|        NULL|        NULL|2018|04/08/2019 04:19:...|    NULL|     NULL|    NULL|\n",
       "|11445072|   JB415614|08/30/2018 07:45:...| 031XX W HARRISON ST|2027|           NARCOTICS|         POSS: CRACK|POLICE FACILITY/V...|  true|   false|1134|      11|  24|            27|      18|        NULL|        NULL|2018|04/13/2019 03:55:...|    NULL|     NULL|    NULL|\n",
       "|11645849|   JC209353|11/27/2018 08:43:...|   0000X E CERMAK RD|2250|LIQUOR LAW VIOLATION|LIQUOR LICENSE VI...| TAVERN/LIQUOR STORE|  true|   false| 131|       1|   3|            33|      22|        NULL|        NULL|2018|04/09/2019 04:17:...|    NULL|     NULL|    NULL|\n",
       "|11451058|   JB397122|08/17/2018 10:15:...|   038XX W MONROE ST|2014|           NARCOTICS|MANU/DELIVER: HER...|VEHICLE NON-COMME...|  true|   false|1122|      11|  28|            26|      18|        NULL|        NULL|2018|04/09/2019 04:24:...|    NULL|     NULL|    NULL|\n",
       "|11648485|   JC216504|11/01/2018 12:00:...|  076XX S PAXTON AVE|1130|  DECEPTIVE PRACTICE|FRAUD OR CONFIDEN...|           RESIDENCE| false|   false| 414|       4|   8|            43|      11|        NULL|        NULL|2018|04/09/2019 04:24:...|    NULL|     NULL|    NULL|\n",
       "|11649199|   JC217367|11/23/2018 08:00:...| 070XX N WESTERN AVE|1153|  DECEPTIVE PRACTICE|FINANCIAL IDENTIT...|  SMALL RETAIL STORE| false|   false|2411|      24|  50|             2|      11|        NULL|        NULL|2018|04/09/2019 04:24:...|    NULL|     NULL|    NULL|\n",
       "|11649227|   JC217417|12/26/2018 01:00:...|  073XX N RIDGE BLVD|0810|               THEFT|           OVER $500|           RESIDENCE| false|   false|2424|      24|  49|             1|      06|        NULL|        NULL|2018|04/09/2019 04:24:...|    NULL|     NULL|    NULL|\n",
       "|11649962|   JC218252|01/16/2018 10:25:...|   087XX S BISHOP ST|1153|  DECEPTIVE PRACTICE|FINANCIAL IDENTIT...|                NULL| false|   false|2222|      22|  21|            71|      11|        NULL|        NULL|2018|04/10/2019 04:14:...|    NULL|     NULL|    NULL|\n",
       "+--------+-----------+--------------------+--------------------+----+--------------------+--------------------+--------------------+------+--------+----+--------+----+--------------+--------+------------+------------+----+--------------------+--------+---------+--------+\n",
       "only showing top 20 rows"
      ]
     },
     "execution_count": 14,
     "metadata": {},
     "output_type": "execute_result"
    }
   ],
   "source": [
    "# Filtrer les crimes pour l'année 2018\n",
    "df_spark_2018 = df_spark.filter(df_spark_no_localisation.Year == 2018)\n",
    "\n",
    "print(f\"Nombre de crimes en 2018 : {df_spark_2018.count()}\")\n",
    "\n",
    "df_spark_2018"
   ]
  },
  {
   "cell_type": "markdown",
   "id": "c9ac331d-7f46-475a-9e60-441cb9c48f6f",
   "metadata": {
    "id": "c9ac331d-7f46-475a-9e60-441cb9c48f6f"
   },
   "source": [
    "Quelques autres fonctions intégrées de PySpark"
   ]
  },
  {
   "cell_type": "code",
   "execution_count": 15,
   "id": "47130b57-ad34-4d7b-b992-b8b827412944",
   "metadata": {},
   "outputs": [
    {
     "data": {
      "text/html": [
       "<table border='1'>\n",
       "<tr><th>Primary Type</th><th>count</th></tr>\n",
       "<tr><td>THEFT</td><td>65290</td></tr>\n",
       "<tr><td>BATTERY</td><td>49831</td></tr>\n",
       "<tr><td>CRIMINAL DAMAGE</td><td>27823</td></tr>\n",
       "<tr><td>ASSAULT</td><td>20407</td></tr>\n",
       "<tr><td>DECEPTIVE PRACTICE</td><td>19911</td></tr>\n",
       "<tr><td>OTHER OFFENSE</td><td>17267</td></tr>\n",
       "<tr><td>NARCOTICS</td><td>13593</td></tr>\n",
       "<tr><td>BURGLARY</td><td>11747</td></tr>\n",
       "<tr><td>MOTOR VEHICLE THEFT</td><td>9985</td></tr>\n",
       "<tr><td>ROBBERY</td><td>9681</td></tr>\n",
       "<tr><td>CRIMINAL TRESPASS</td><td>6909</td></tr>\n",
       "<tr><td>WEAPONS VIOLATION</td><td>5456</td></tr>\n",
       "<tr><td>OFFENSE INVOLVING...</td><td>2453</td></tr>\n",
       "<tr><td>CRIM SEXUAL ASSAULT</td><td>1392</td></tr>\n",
       "<tr><td>PUBLIC PEACE VIOL...</td><td>1372</td></tr>\n",
       "<tr><td>INTERFERENCE WITH...</td><td>1307</td></tr>\n",
       "<tr><td>SEX OFFENSE</td><td>1267</td></tr>\n",
       "<tr><td>PROSTITUTION</td><td>718</td></tr>\n",
       "<tr><td>HOMICIDE</td><td>600</td></tr>\n",
       "<tr><td>ARSON</td><td>373</td></tr>\n",
       "</table>\n",
       "only showing top 20 rows\n"
      ],
      "text/plain": [
       "+--------------------+-----+\n",
       "|        Primary Type|count|\n",
       "+--------------------+-----+\n",
       "|               THEFT|65290|\n",
       "|             BATTERY|49831|\n",
       "|     CRIMINAL DAMAGE|27823|\n",
       "|             ASSAULT|20407|\n",
       "|  DECEPTIVE PRACTICE|19911|\n",
       "|       OTHER OFFENSE|17267|\n",
       "|           NARCOTICS|13593|\n",
       "|            BURGLARY|11747|\n",
       "| MOTOR VEHICLE THEFT| 9985|\n",
       "|             ROBBERY| 9681|\n",
       "|   CRIMINAL TRESPASS| 6909|\n",
       "|   WEAPONS VIOLATION| 5456|\n",
       "|OFFENSE INVOLVING...| 2453|\n",
       "| CRIM SEXUAL ASSAULT| 1392|\n",
       "|PUBLIC PEACE VIOL...| 1372|\n",
       "|INTERFERENCE WITH...| 1307|\n",
       "|         SEX OFFENSE| 1267|\n",
       "|        PROSTITUTION|  718|\n",
       "|            HOMICIDE|  600|\n",
       "|               ARSON|  373|\n",
       "+--------------------+-----+\n",
       "only showing top 20 rows"
      ]
     },
     "execution_count": 15,
     "metadata": {},
     "output_type": "execute_result"
    }
   ],
   "source": [
    "#Regroupement\n",
    "# Agrégation par type de crime\n",
    "df_spark_2018.groupBy(\"Primary Type\").count().orderBy(\"count\", ascending=False)"
   ]
  },
  {
   "cell_type": "code",
   "execution_count": 16,
   "id": "8d86aba4-0efd-4c42-837f-4b6ebe17c3cd",
   "metadata": {
    "id": "8d86aba4-0efd-4c42-837f-4b6ebe17c3cd",
    "outputId": "38d2970f-5f0e-4d36-958d-c174aee80405",
    "tags": []
   },
   "outputs": [
    {
     "data": {
      "text/plain": [
       "484"
      ]
     },
     "execution_count": 16,
     "metadata": {},
     "output_type": "execute_result"
    }
   ],
   "source": [
    "from pyspark.sql import functions\n",
    "# Les fonctions disponibles dans pysark.sql\n",
    "dir(functions)\n",
    "len(dir(functions))"
   ]
  },
  {
   "cell_type": "code",
   "execution_count": 17,
   "id": "789af59c-b924-437b-afcf-282035be5cc3",
   "metadata": {
    "id": "789af59c-b924-437b-afcf-282035be5cc3",
    "tags": []
   },
   "outputs": [
    {
     "data": {
      "text/html": [
       "<table border='1'>\n",
       "<tr><th>DISTRICT</th><th>DISTRICT NAME</th><th>ADDRESS</th><th>CITY</th><th>STATE</th><th>ZIP</th><th>WEBSITE</th><th>PHONE</th><th>FAX</th><th>TTY</th><th>X COORDINATE</th><th>Y COORDINATE</th><th>LATITUDE</th><th>LONGITUDE</th><th>LOCATION</th></tr>\n",
       "<tr><td>Headquarters</td><td>Headquarters</td><td>3510 S Michigan Ave</td><td>Chicago</td><td>IL</td><td>60653</td><td>http://home.chica...</td><td>NULL</td><td>NULL</td><td>NULL</td><td>1177731.401</td><td>1881697.404</td><td>41.83070169</td><td>-87.62339535</td><td>(41.8307016873, -...</td></tr>\n",
       "<tr><td>18</td><td>Near North</td><td>1160 N Larrabee St</td><td>Chicago</td><td>IL</td><td>60610</td><td>http://home.chica...</td><td>312-742-5870</td><td>312-742-5771</td><td>312-742-5773</td><td>1172080.029</td><td>1908086.527</td><td>41.90324165</td><td>-87.64335214</td><td>(41.9032416531, -...</td></tr>\n",
       "<tr><td>19</td><td>Town Hall</td><td>850 W Addison St</td><td>Chicago</td><td>IL</td><td>60613</td><td>http://home.chica...</td><td>312-744-8320</td><td>312-744-4481</td><td>312-744-8011</td><td>1169730.744</td><td>1924160.317</td><td>41.94740046</td><td>-87.65151202</td><td>(41.9474004564, -...</td></tr>\n",
       "<tr><td>20</td><td>Lincoln</td><td>5400 N Lincoln Ave</td><td>Chicago</td><td>IL</td><td>60625</td><td>http://home.chica...</td><td>312-742-8714</td><td>312-742-8803</td><td>312-742-8841</td><td>1158399.146</td><td>1935788.826</td><td>41.97954951</td><td>-87.69284451</td><td>(41.9795495131, -...</td></tr>\n",
       "<tr><td>22</td><td>Morgan Park</td><td>1900 W Monterey Ave</td><td>Chicago</td><td>IL</td><td>60643</td><td>http://home.chica...</td><td>312-745-0710</td><td>312-745-0814</td><td>312-745-0569</td><td>1165825.476</td><td>1830851.333</td><td>41.69143478</td><td>-87.66852039</td><td>(41.6914347795, -...</td></tr>\n",
       "<tr><td>24</td><td>Rogers Park</td><td>6464 N Clark St</td><td>Chicago</td><td>IL</td><td>60626</td><td>http://home.chica...</td><td>312-744-5907</td><td>312-744-6928</td><td>312-744-7603</td><td>1164193.588</td><td>1943199.401</td><td>41.99976348</td><td>-87.67132429</td><td>(41.9997634842, -...</td></tr>\n",
       "<tr><td>25</td><td>Grand Central</td><td>5555 W Grand Ave</td><td>Chicago</td><td>IL</td><td>60639</td><td>http://home.chica...</td><td>312-746-8605</td><td>312-746-4353</td><td>312-746-8383</td><td>1138770.871</td><td>1913442.439</td><td>41.91860889</td><td>-87.76557448</td><td>(41.9186088912, -...</td></tr>\n",
       "<tr><td>1</td><td>Central</td><td>1718 S State St</td><td>Chicago</td><td>IL</td><td>60616</td><td>http://home.chica...</td><td>312-745-4290</td><td>312-745-3694</td><td>312-745-3693</td><td>1176569.052</td><td>1891771.704</td><td>41.85837259</td><td>-87.62735617</td><td>(41.8583725929, -...</td></tr>\n",
       "<tr><td>2</td><td>Wentworth</td><td>5101 S Wentworth Ave</td><td>Chicago</td><td>IL</td><td>60609</td><td>http://home.chica...</td><td>312-747-8366</td><td>312-747-5396</td><td>312-747-6656</td><td>1175864.837</td><td>1871153.753</td><td>41.80181109</td><td>-87.63056018</td><td>(41.8018110912, -...</td></tr>\n",
       "<tr><td>3</td><td>Grand Crossing</td><td>7040 S Cottage Gr...</td><td>Chicago</td><td>IL</td><td>60637</td><td>http://home.chica...</td><td>312-747-8201</td><td>312-747-5479</td><td>312-747-9168</td><td>1182739.183</td><td>1858317.732</td><td>41.76643089</td><td>-87.60574786</td><td>(41.7664308925, -...</td></tr>\n",
       "<tr><td>4</td><td>South Chicago</td><td>2255 E 103rd St</td><td>Chicago</td><td>IL</td><td>60617</td><td>http://home.chica...</td><td>312-747-7581</td><td>312-747-5276</td><td>312-747-9169</td><td>1193131.299</td><td>1837090.265</td><td>41.70793329</td><td>-87.56834912</td><td>(41.7079332906, -...</td></tr>\n",
       "<tr><td>5</td><td>Calumet</td><td>727 E 111th St</td><td>Chicago</td><td>IL</td><td>60628</td><td>http://home.chica...</td><td>312-747-8210</td><td>312-747-5935</td><td>312-747-9170</td><td>1183305.427</td><td>1831462.313</td><td>41.69272336</td><td>-87.60450587</td><td>(41.6927233639, -...</td></tr>\n",
       "<tr><td>6</td><td>Gresham</td><td>7808 S Halsted St</td><td>Chicago</td><td>IL</td><td>60620</td><td>http://home.chica...</td><td>312-745-3617</td><td>312-745-3649</td><td>312-745-3639</td><td>1172283.013</td><td>1853022.646</td><td>41.75213684</td><td>-87.64422891</td><td>(41.7521368378, -...</td></tr>\n",
       "<tr><td>7</td><td>Englewood</td><td>1438 W 63rd St</td><td>Chicago</td><td>IL</td><td>60636</td><td>http://home.chica...</td><td>312-747-8223</td><td>312-747-6558</td><td>312-747-6652</td><td>1167659.235</td><td>1863005.522</td><td>41.77963154</td><td>-87.66088702</td><td>(41.7796315359, -...</td></tr>\n",
       "<tr><td>8</td><td>Chicago Lawn</td><td>3420 W 63rd St</td><td>Chicago</td><td>IL</td><td>60629</td><td>http://home.chica...</td><td>312-747-8730</td><td>312-747-8545</td><td>312-747-8116</td><td>1154575.242</td><td>1862672.049</td><td>41.77898719</td><td>-87.70886382</td><td>(41.778987189, -8...</td></tr>\n",
       "<tr><td>9</td><td>Deering</td><td>3120 S Halsted St</td><td>Chicago</td><td>IL</td><td>60608</td><td>http://home.chica...</td><td>312-747-8227</td><td>312-747-5329</td><td>312-747-9172</td><td>1171440.24</td><td>1884085.224</td><td>41.83739443</td><td>-87.64640771</td><td>(41.8373944311, -...</td></tr>\n",
       "<tr><td>10</td><td>Ogden</td><td>3315 W Ogden Ave</td><td>Chicago</td><td>IL</td><td>60623</td><td>http://home.chica...</td><td>312-747-7511</td><td>312-747-7429</td><td>312-747-7471</td><td>1154500.753</td><td>1890985.501</td><td>41.85668453</td><td>-87.70838196</td><td>(41.8566845327, -...</td></tr>\n",
       "<tr><td>11</td><td>Harrison</td><td>3151 W Harrison St</td><td>Chicago</td><td>IL</td><td>60612</td><td>http://home.chica...</td><td>312-746-8386</td><td>312-746-4281</td><td>312-746-5151</td><td>1155244.069</td><td>1897148.755</td><td>41.87358229</td><td>-87.70548813</td><td>(41.8735822883, -...</td></tr>\n",
       "<tr><td>12</td><td>Near West</td><td>1412 S Blue Islan...</td><td>NULL</td><td>NULL</td><td>NULL</td><td>NULL</td><td>NULL</td><td>NULL</td><td>NULL</td><td>NULL</td><td>NULL</td><td>NULL</td><td>NULL</td><td>NULL</td></tr>\n",
       "<tr><td>&quot;,Chicago,IL,6060...</td><td> -87.6569725149)&quot;</td><td>NULL</td><td>NULL</td><td>NULL</td><td>NULL</td><td>NULL</td><td>NULL</td><td>NULL</td><td>NULL</td><td>NULL</td><td>NULL</td><td>NULL</td><td>NULL</td><td>NULL</td></tr>\n",
       "</table>\n",
       "only showing top 20 rows\n"
      ],
      "text/plain": [
       "+--------------------+-----------------+--------------------+-------+-----+-----+--------------------+------------+------------+------------+------------+------------+-----------+------------+--------------------+\n",
       "|            DISTRICT|    DISTRICT NAME|             ADDRESS|   CITY|STATE|  ZIP|             WEBSITE|       PHONE|         FAX|         TTY|X COORDINATE|Y COORDINATE|   LATITUDE|   LONGITUDE|            LOCATION|\n",
       "+--------------------+-----------------+--------------------+-------+-----+-----+--------------------+------------+------------+------------+------------+------------+-----------+------------+--------------------+\n",
       "|        Headquarters|     Headquarters| 3510 S Michigan Ave|Chicago|   IL|60653|http://home.chica...|        NULL|        NULL|        NULL| 1177731.401| 1881697.404|41.83070169|-87.62339535|(41.8307016873, -...|\n",
       "|                  18|       Near North|  1160 N Larrabee St|Chicago|   IL|60610|http://home.chica...|312-742-5870|312-742-5771|312-742-5773| 1172080.029| 1908086.527|41.90324165|-87.64335214|(41.9032416531, -...|\n",
       "|                  19|        Town Hall|    850 W Addison St|Chicago|   IL|60613|http://home.chica...|312-744-8320|312-744-4481|312-744-8011| 1169730.744| 1924160.317|41.94740046|-87.65151202|(41.9474004564, -...|\n",
       "|                  20|          Lincoln|  5400 N Lincoln Ave|Chicago|   IL|60625|http://home.chica...|312-742-8714|312-742-8803|312-742-8841| 1158399.146| 1935788.826|41.97954951|-87.69284451|(41.9795495131, -...|\n",
       "|                  22|      Morgan Park| 1900 W Monterey Ave|Chicago|   IL|60643|http://home.chica...|312-745-0710|312-745-0814|312-745-0569| 1165825.476| 1830851.333|41.69143478|-87.66852039|(41.6914347795, -...|\n",
       "|                  24|      Rogers Park|     6464 N Clark St|Chicago|   IL|60626|http://home.chica...|312-744-5907|312-744-6928|312-744-7603| 1164193.588| 1943199.401|41.99976348|-87.67132429|(41.9997634842, -...|\n",
       "|                  25|    Grand Central|    5555 W Grand Ave|Chicago|   IL|60639|http://home.chica...|312-746-8605|312-746-4353|312-746-8383| 1138770.871| 1913442.439|41.91860889|-87.76557448|(41.9186088912, -...|\n",
       "|                   1|          Central|     1718 S State St|Chicago|   IL|60616|http://home.chica...|312-745-4290|312-745-3694|312-745-3693| 1176569.052| 1891771.704|41.85837259|-87.62735617|(41.8583725929, -...|\n",
       "|                   2|        Wentworth|5101 S Wentworth Ave|Chicago|   IL|60609|http://home.chica...|312-747-8366|312-747-5396|312-747-6656| 1175864.837| 1871153.753|41.80181109|-87.63056018|(41.8018110912, -...|\n",
       "|                   3|   Grand Crossing|7040 S Cottage Gr...|Chicago|   IL|60637|http://home.chica...|312-747-8201|312-747-5479|312-747-9168| 1182739.183| 1858317.732|41.76643089|-87.60574786|(41.7664308925, -...|\n",
       "|                   4|    South Chicago|     2255 E 103rd St|Chicago|   IL|60617|http://home.chica...|312-747-7581|312-747-5276|312-747-9169| 1193131.299| 1837090.265|41.70793329|-87.56834912|(41.7079332906, -...|\n",
       "|                   5|          Calumet|      727 E 111th St|Chicago|   IL|60628|http://home.chica...|312-747-8210|312-747-5935|312-747-9170| 1183305.427| 1831462.313|41.69272336|-87.60450587|(41.6927233639, -...|\n",
       "|                   6|          Gresham|   7808 S Halsted St|Chicago|   IL|60620|http://home.chica...|312-745-3617|312-745-3649|312-745-3639| 1172283.013| 1853022.646|41.75213684|-87.64422891|(41.7521368378, -...|\n",
       "|                   7|        Englewood|      1438 W 63rd St|Chicago|   IL|60636|http://home.chica...|312-747-8223|312-747-6558|312-747-6652| 1167659.235| 1863005.522|41.77963154|-87.66088702|(41.7796315359, -...|\n",
       "|                   8|     Chicago Lawn|      3420 W 63rd St|Chicago|   IL|60629|http://home.chica...|312-747-8730|312-747-8545|312-747-8116| 1154575.242| 1862672.049|41.77898719|-87.70886382|(41.778987189, -8...|\n",
       "|                   9|          Deering|   3120 S Halsted St|Chicago|   IL|60608|http://home.chica...|312-747-8227|312-747-5329|312-747-9172|  1171440.24| 1884085.224|41.83739443|-87.64640771|(41.8373944311, -...|\n",
       "|                  10|            Ogden|    3315 W Ogden Ave|Chicago|   IL|60623|http://home.chica...|312-747-7511|312-747-7429|312-747-7471| 1154500.753| 1890985.501|41.85668453|-87.70838196|(41.8566845327, -...|\n",
       "|                  11|         Harrison|  3151 W Harrison St|Chicago|   IL|60612|http://home.chica...|312-746-8386|312-746-4281|312-746-5151| 1155244.069| 1897148.755|41.87358229|-87.70548813|(41.8735822883, -...|\n",
       "|                  12|        Near West|1412 S Blue Islan...|   NULL| NULL| NULL|                NULL|        NULL|        NULL|        NULL|        NULL|        NULL|       NULL|        NULL|                NULL|\n",
       "|\",Chicago,IL,6060...| -87.6569725149)\"|                NULL|   NULL| NULL| NULL|                NULL|        NULL|        NULL|        NULL|        NULL|        NULL|       NULL|        NULL|                NULL|\n",
       "+--------------------+-----------------+--------------------+-------+-----+-----+--------------------+------------+------------+------------+------------+------------+-----------+------------+--------------------+\n",
       "only showing top 20 rows"
      ]
     },
     "execution_count": 17,
     "metadata": {},
     "output_type": "execute_result"
    }
   ],
   "source": [
    "# jointure\n",
    "\n",
    "df_police = spark.read.csv(\"data/police_station_data.csv\", header=True, inferSchema=True)\n",
    "\n",
    "df_police"
   ]
  },
  {
   "cell_type": "code",
   "execution_count": 18,
   "id": "2afb8b31-f2af-4927-bdb8-23ec5b3fc42d",
   "metadata": {},
   "outputs": [
    {
     "data": {
      "text/plain": [
       "['DISTRICT',\n",
       " 'DISTRICT NAME',\n",
       " 'ADDRESS',\n",
       " 'CITY',\n",
       " 'STATE',\n",
       " 'ZIP',\n",
       " 'WEBSITE',\n",
       " 'PHONE',\n",
       " 'FAX',\n",
       " 'TTY',\n",
       " 'X COORDINATE',\n",
       " 'Y COORDINATE',\n",
       " 'LATITUDE',\n",
       " 'LONGITUDE',\n",
       " 'LOCATION']"
      ]
     },
     "execution_count": 18,
     "metadata": {},
     "output_type": "execute_result"
    }
   ],
   "source": [
    "df_police.columns"
   ]
  },
  {
   "cell_type": "code",
   "execution_count": 19,
   "id": "7615740a-90f3-4139-b599-d8bb23cedf88",
   "metadata": {},
   "outputs": [
    {
     "data": {
      "text/plain": [
       "['ID',\n",
       " 'Case Number',\n",
       " 'Date',\n",
       " 'Block',\n",
       " 'IUCR',\n",
       " 'Primary Type',\n",
       " 'Description',\n",
       " 'Location Description',\n",
       " 'Arrest',\n",
       " 'Domestic',\n",
       " 'Beat',\n",
       " 'District',\n",
       " 'Ward',\n",
       " 'Community Area',\n",
       " 'FBI Code',\n",
       " 'X Coordinate',\n",
       " 'Y Coordinate',\n",
       " 'Year',\n",
       " 'Updated On',\n",
       " 'Latitude',\n",
       " 'Longitude',\n",
       " 'Location']"
      ]
     },
     "execution_count": 19,
     "metadata": {},
     "output_type": "execute_result"
    }
   ],
   "source": [
    "df_spark_2018.columns"
   ]
  },
  {
   "cell_type": "code",
   "execution_count": 20,
   "id": "ff61ccee-8056-49f0-9bfe-1ff0984f805b",
   "metadata": {},
   "outputs": [
    {
     "data": {
      "text/html": [
       "<table border='1'>\n",
       "<tr><th>ID</th><th>Case Number</th><th>Date</th><th>Block</th><th>IUCR</th><th>Primary Type</th><th>Description</th><th>Location Description</th><th>Arrest</th><th>Domestic</th><th>Beat</th><th>District</th><th>Ward</th><th>Community Area</th><th>FBI Code</th><th>Year</th><th>Updated On</th><th>DISTRICT NAME</th><th>ADDRESS</th><th>CITY</th><th>STATE</th><th>ZIP</th><th>WEBSITE</th><th>PHONE</th><th>FAX</th><th>TTY</th><th>X COORDINATE</th><th>Y COORDINATE</th><th>LATITUDE</th><th>LONGITUDE</th><th>LOCATION</th></tr>\n",
       "<tr><td>11037294</td><td>JA371270</td><td>03/18/2015 12:00:...</td><td>0000X W WACKER DR</td><td>1153</td><td>DECEPTIVE PRACTICE</td><td>FINANCIAL IDENTIT...</td><td>BANK</td><td>false</td><td>false</td><td>111</td><td>1</td><td>42</td><td>32</td><td>11</td><td>2015</td><td>08/01/2017 03:52:...</td><td>Central</td><td>1718 S State St</td><td>Chicago</td><td>IL</td><td>60616</td><td>http://home.chica...</td><td>312-745-4290</td><td>312-745-3694</td><td>312-745-3693</td><td>1176569.052</td><td>1891771.704</td><td>41.85837259</td><td>-87.62735617</td><td>(41.8583725929, -...</td></tr>\n",
       "<tr><td>11646293</td><td>JC213749</td><td>12/20/2018 03:00:...</td><td>023XX N LOCKWOOD AVE</td><td>1154</td><td>DECEPTIVE PRACTICE</td><td>FINANCIAL IDENTIT...</td><td>APARTMENT</td><td>false</td><td>false</td><td>2515</td><td>25</td><td>36</td><td>19</td><td>11</td><td>2018</td><td>04/06/2019 04:04:...</td><td>Grand Central</td><td>5555 W Grand Ave</td><td>Chicago</td><td>IL</td><td>60639</td><td>http://home.chica...</td><td>312-746-8605</td><td>312-746-4353</td><td>312-746-8383</td><td>1138770.871</td><td>1913442.439</td><td>41.91860889</td><td>-87.76557448</td><td>(41.9186088912, -...</td></tr>\n",
       "<tr><td>11645836</td><td>JC212333</td><td>05/01/2016 12:25:...</td><td>055XX S ROCKWELL ST</td><td>1153</td><td>DECEPTIVE PRACTICE</td><td>FINANCIAL IDENTIT...</td><td>NULL</td><td>false</td><td>false</td><td>824</td><td>8</td><td>15</td><td>63</td><td>11</td><td>2016</td><td>04/06/2019 04:04:...</td><td>Chicago Lawn</td><td>3420 W 63rd St</td><td>Chicago</td><td>IL</td><td>60629</td><td>http://home.chica...</td><td>312-747-8730</td><td>312-747-8545</td><td>312-747-8116</td><td>1154575.242</td><td>1862672.049</td><td>41.77898719</td><td>-87.70886382</td><td>(41.778987189, -8...</td></tr>\n",
       "<tr><td>11645959</td><td>JC211511</td><td>12/20/2018 04:00:...</td><td>045XX N ALBANY AVE</td><td>2820</td><td>OTHER OFFENSE</td><td>TELEPHONE THREAT</td><td>RESIDENCE</td><td>false</td><td>false</td><td>1724</td><td>17</td><td>33</td><td>14</td><td>08A</td><td>2018</td><td>04/06/2019 04:04:...</td><td>Albany Park</td><td>4650 N Pulaski Rd</td><td>Chicago</td><td>IL</td><td>60630</td><td>http://home.chica...</td><td>312-742-4410</td><td>312-742-5411</td><td>312-742-5451</td><td>1148843.91</td><td>1930801.058</td><td>41.96605342</td><td>-87.72811456</td><td>(41.9660534171, -...</td></tr>\n",
       "<tr><td>11645601</td><td>JC212935</td><td>06/01/2014 12:01:...</td><td>087XX S SANGAMON ST</td><td>1153</td><td>DECEPTIVE PRACTICE</td><td>FINANCIAL IDENTIT...</td><td>RESIDENCE</td><td>false</td><td>false</td><td>2222</td><td>22</td><td>21</td><td>71</td><td>11</td><td>2014</td><td>04/06/2019 04:04:...</td><td>Morgan Park</td><td>1900 W Monterey Ave</td><td>Chicago</td><td>IL</td><td>60643</td><td>http://home.chica...</td><td>312-745-0710</td><td>312-745-0814</td><td>312-745-0569</td><td>1165825.476</td><td>1830851.333</td><td>41.69143478</td><td>-87.66852039</td><td>(41.6914347795, -...</td></tr>\n",
       "<tr><td>11646166</td><td>JC213529</td><td>09/01/2018 12:01:...</td><td>082XX S INGLESIDE...</td><td>0810</td><td>THEFT</td><td>OVER $500</td><td>RESIDENCE</td><td>false</td><td>true</td><td>631</td><td>6</td><td>8</td><td>44</td><td>06</td><td>2018</td><td>04/06/2019 04:04:...</td><td>Gresham</td><td>7808 S Halsted St</td><td>Chicago</td><td>IL</td><td>60620</td><td>http://home.chica...</td><td>312-745-3617</td><td>312-745-3649</td><td>312-745-3639</td><td>1172283.013</td><td>1853022.646</td><td>41.75213684</td><td>-87.64422891</td><td>(41.7521368378, -...</td></tr>\n",
       "<tr><td>11645648</td><td>JC212959</td><td>01/01/2018 08:00:...</td><td>024XX N MONITOR AVE</td><td>1153</td><td>DECEPTIVE PRACTICE</td><td>FINANCIAL IDENTIT...</td><td>RESIDENCE</td><td>false</td><td>false</td><td>2515</td><td>25</td><td>30</td><td>19</td><td>11</td><td>2018</td><td>04/06/2019 04:04:...</td><td>Grand Central</td><td>5555 W Grand Ave</td><td>Chicago</td><td>IL</td><td>60639</td><td>http://home.chica...</td><td>312-746-8605</td><td>312-746-4353</td><td>312-746-8383</td><td>1138770.871</td><td>1913442.439</td><td>41.91860889</td><td>-87.76557448</td><td>(41.9186088912, -...</td></tr>\n",
       "<tr><td>11645557</td><td>JC212685</td><td>04/01/2018 12:01:...</td><td>080XX S VERNON AVE</td><td>1153</td><td>DECEPTIVE PRACTICE</td><td>FINANCIAL IDENTIT...</td><td>RESIDENCE</td><td>false</td><td>false</td><td>631</td><td>6</td><td>6</td><td>44</td><td>11</td><td>2018</td><td>04/06/2019 04:04:...</td><td>Gresham</td><td>7808 S Halsted St</td><td>Chicago</td><td>IL</td><td>60620</td><td>http://home.chica...</td><td>312-745-3617</td><td>312-745-3649</td><td>312-745-3639</td><td>1172283.013</td><td>1853022.646</td><td>41.75213684</td><td>-87.64422891</td><td>(41.7521368378, -...</td></tr>\n",
       "<tr><td>11645527</td><td>JC212744</td><td>02/02/2015 10:00:...</td><td>069XX W ARCHER AVE</td><td>1153</td><td>DECEPTIVE PRACTICE</td><td>FINANCIAL IDENTIT...</td><td>OTHER</td><td>false</td><td>false</td><td>811</td><td>8</td><td>23</td><td>56</td><td>11</td><td>2015</td><td>04/06/2019 04:04:...</td><td>Chicago Lawn</td><td>3420 W 63rd St</td><td>Chicago</td><td>IL</td><td>60629</td><td>http://home.chica...</td><td>312-747-8730</td><td>312-747-8545</td><td>312-747-8116</td><td>1154575.242</td><td>1862672.049</td><td>41.77898719</td><td>-87.70886382</td><td>(41.778987189, -8...</td></tr>\n",
       "<tr><td>11645833</td><td>JC213044</td><td>05/05/2012 12:25:...</td><td>057XX W OHIO ST</td><td>1153</td><td>DECEPTIVE PRACTICE</td><td>FINANCIAL IDENTIT...</td><td>NULL</td><td>false</td><td>false</td><td>1511</td><td>15</td><td>29</td><td>25</td><td>11</td><td>2012</td><td>04/06/2019 04:04:...</td><td>Austin</td><td>5701 W Madison St</td><td>Chicago</td><td>IL</td><td>60644</td><td>http://home.chica...</td><td>312-743-1440</td><td>312-743-1366</td><td>312-743-1485</td><td>1138148.815</td><td>1899399.078</td><td>41.88008346</td><td>-87.76819989</td><td>(41.8800834614, -...</td></tr>\n",
       "<tr><td>11645568</td><td>JC212803</td><td>12/18/2018 11:00:...</td><td>032XX N WILTON AVE</td><td>1153</td><td>DECEPTIVE PRACTICE</td><td>FINANCIAL IDENTIT...</td><td>RESIDENCE</td><td>false</td><td>false</td><td>1924</td><td>19</td><td>44</td><td>6</td><td>11</td><td>2018</td><td>04/06/2019 04:04:...</td><td>Town Hall</td><td>850 W Addison St</td><td>Chicago</td><td>IL</td><td>60613</td><td>http://home.chica...</td><td>312-744-8320</td><td>312-744-4481</td><td>312-744-8011</td><td>1169730.744</td><td>1924160.317</td><td>41.94740046</td><td>-87.65151202</td><td>(41.9474004564, -...</td></tr>\n",
       "<tr><td>12045583</td><td>JD226426</td><td>05/07/2020 10:24:...</td><td>035XX S INDIANA AVE</td><td>0820</td><td>THEFT</td><td>$500 AND UNDER</td><td>APARTMENT</td><td>false</td><td>false</td><td>212</td><td>2</td><td>3</td><td>35</td><td>06</td><td>2020</td><td>05/14/2020 08:47:...</td><td>Wentworth</td><td>5101 S Wentworth Ave</td><td>Chicago</td><td>IL</td><td>60609</td><td>http://home.chica...</td><td>312-747-8366</td><td>312-747-5396</td><td>312-747-6656</td><td>1175864.837</td><td>1871153.753</td><td>41.80181109</td><td>-87.63056018</td><td>(41.8018110912, -...</td></tr>\n",
       "<tr><td>12031001</td><td>JD209965</td><td>04/16/2020 05:00:...</td><td>005XX W 32ND ST</td><td>0460</td><td>BATTERY</td><td>SIMPLE</td><td>APARTMENT</td><td>true</td><td>false</td><td>915</td><td>9</td><td>11</td><td>60</td><td>08B</td><td>2020</td><td>04/23/2020 03:45:...</td><td>Deering</td><td>3120 S Halsted St</td><td>Chicago</td><td>IL</td><td>60608</td><td>http://home.chica...</td><td>312-747-8227</td><td>312-747-5329</td><td>312-747-9172</td><td>1171440.24</td><td>1884085.224</td><td>41.83739443</td><td>-87.64640771</td><td>(41.8373944311, -...</td></tr>\n",
       "<tr><td>12093529</td><td>JD282112</td><td>07/01/2020 10:16:...</td><td>081XX S COLES AVE</td><td>051A</td><td>ASSAULT</td><td>AGGRAVATED - HANDGUN</td><td>STREET</td><td>true</td><td>false</td><td>422</td><td>4</td><td>7</td><td>46</td><td>04A</td><td>2020</td><td>07/08/2020 03:41:...</td><td>South Chicago</td><td>2255 E 103rd St</td><td>Chicago</td><td>IL</td><td>60617</td><td>http://home.chica...</td><td>312-747-7581</td><td>312-747-5276</td><td>312-747-9169</td><td>1193131.299</td><td>1837090.265</td><td>41.70793329</td><td>-87.56834912</td><td>(41.7079332906, -...</td></tr>\n",
       "<tr><td>12178140</td><td>JD381597</td><td>09/27/2020 11:29:...</td><td>065XX S WOLCOTT AVE</td><td>0460</td><td>BATTERY</td><td>SIMPLE</td><td>RESIDENCE - PORCH...</td><td>false</td><td>false</td><td>726</td><td>7</td><td>15</td><td>67</td><td>08B</td><td>2020</td><td>10/04/2020 03:43:...</td><td>Englewood</td><td>1438 W 63rd St</td><td>Chicago</td><td>IL</td><td>60636</td><td>http://home.chica...</td><td>312-747-8223</td><td>312-747-6558</td><td>312-747-6652</td><td>1167659.235</td><td>1863005.522</td><td>41.77963154</td><td>-87.66088702</td><td>(41.7796315359, -...</td></tr>\n",
       "<tr><td>4144897</td><td>HL474854</td><td>07/10/2005 03:00:...</td><td>062XX S ABERDEEN ST</td><td>0430</td><td>BATTERY</td><td>AGGRAVATED: OTHER...</td><td>STREET</td><td>false</td><td>false</td><td>712</td><td>7</td><td>16</td><td>68</td><td>04B</td><td>2005</td><td>02/28/2018 03:56:...</td><td>Englewood</td><td>1438 W 63rd St</td><td>Chicago</td><td>IL</td><td>60636</td><td>http://home.chica...</td><td>312-747-8223</td><td>312-747-6558</td><td>312-747-6652</td><td>1167659.235</td><td>1863005.522</td><td>41.77963154</td><td>-87.66088702</td><td>(41.7796315359, -...</td></tr>\n",
       "<tr><td>1744168</td><td>G553545</td><td>09/15/2001 02:00:...</td><td>013XX W POLK ST</td><td>0460</td><td>BATTERY</td><td>SIMPLE</td><td>STREET</td><td>false</td><td>false</td><td>1213</td><td>12</td><td>NULL</td><td>NULL</td><td>08B</td><td>2001</td><td>08/17/2015 03:03:...</td><td>Near West</td><td>1412 S Blue Islan...</td><td>NULL</td><td>NULL</td><td>NULL</td><td>NULL</td><td>NULL</td><td>NULL</td><td>NULL</td><td>NULL</td><td>NULL</td><td>NULL</td><td>NULL</td><td>NULL</td></tr>\n",
       "<tr><td>11641644</td><td>JC207234</td><td>03/31/2019 09:30:...</td><td>005XX N ogden ave</td><td>0890</td><td>THEFT</td><td>FROM BUILDING</td><td>RESTAURANT</td><td>false</td><td>false</td><td>1215</td><td>12</td><td>1</td><td>24</td><td>06</td><td>2019</td><td>04/07/2019 04:05:...</td><td>Near West</td><td>1412 S Blue Islan...</td><td>NULL</td><td>NULL</td><td>NULL</td><td>NULL</td><td>NULL</td><td>NULL</td><td>NULL</td><td>NULL</td><td>NULL</td><td>NULL</td><td>NULL</td><td>NULL</td></tr>\n",
       "<tr><td>11615821</td><td>JC176668</td><td>01/01/2016 12:00:...</td><td>054XX N NATCHEZ AVE</td><td>1195</td><td>DECEPTIVE PRACTICE</td><td>FINAN EXPLOIT-ELD...</td><td>RESIDENCE</td><td>false</td><td>true</td><td>1613</td><td>16</td><td>45</td><td>10</td><td>11</td><td>2016</td><td>03/08/2019 04:36:...</td><td>Jefferson Park</td><td>5151 N Milwaukee Ave</td><td>Chicago</td><td>IL</td><td>60630</td><td>http://home.chica...</td><td>312-742-4480</td><td>312-742-4421</td><td>312-742-4423</td><td>1138480.758</td><td>1933660.473</td><td>41.97409445</td><td>-87.76614884</td><td>(41.9740944511, -...</td></tr>\n",
       "<tr><td>12126129</td><td>JD321064</td><td>08/04/2020 08:28:...</td><td>081XX S LOOMIS BLVD</td><td>143A</td><td>WEAPONS VIOLATION</td><td>UNLAWFUL POSSESSI...</td><td>STREET</td><td>true</td><td>false</td><td>613</td><td>6</td><td>21</td><td>71</td><td>15</td><td>2020</td><td>08/11/2020 03:42:...</td><td>Gresham</td><td>7808 S Halsted St</td><td>Chicago</td><td>IL</td><td>60620</td><td>http://home.chica...</td><td>312-745-3617</td><td>312-745-3649</td><td>312-745-3639</td><td>1172283.013</td><td>1853022.646</td><td>41.75213684</td><td>-87.64422891</td><td>(41.7521368378, -...</td></tr>\n",
       "</table>\n",
       "only showing top 20 rows\n"
      ],
      "text/plain": [
       "+--------+-----------+--------------------+--------------------+----+------------------+--------------------+--------------------+------+--------+----+--------+----+--------------+--------+----+--------------------+--------------+--------------------+-------+-----+-----+--------------------+------------+------------+------------+------------+------------+-----------+------------+--------------------+\n",
       "|      ID|Case Number|                Date|               Block|IUCR|      Primary Type|         Description|Location Description|Arrest|Domestic|Beat|District|Ward|Community Area|FBI Code|Year|          Updated On| DISTRICT NAME|             ADDRESS|   CITY|STATE|  ZIP|             WEBSITE|       PHONE|         FAX|         TTY|X COORDINATE|Y COORDINATE|   LATITUDE|   LONGITUDE|            LOCATION|\n",
       "+--------+-----------+--------------------+--------------------+----+------------------+--------------------+--------------------+------+--------+----+--------+----+--------------+--------+----+--------------------+--------------+--------------------+-------+-----+-----+--------------------+------------+------------+------------+------------+------------+-----------+------------+--------------------+\n",
       "|11037294|   JA371270|03/18/2015 12:00:...|   0000X W WACKER DR|1153|DECEPTIVE PRACTICE|FINANCIAL IDENTIT...|                BANK| false|   false| 111|       1|  42|            32|      11|2015|08/01/2017 03:52:...|       Central|     1718 S State St|Chicago|   IL|60616|http://home.chica...|312-745-4290|312-745-3694|312-745-3693| 1176569.052| 1891771.704|41.85837259|-87.62735617|(41.8583725929, -...|\n",
       "|11646293|   JC213749|12/20/2018 03:00:...|023XX N LOCKWOOD AVE|1154|DECEPTIVE PRACTICE|FINANCIAL IDENTIT...|           APARTMENT| false|   false|2515|      25|  36|            19|      11|2018|04/06/2019 04:04:...| Grand Central|    5555 W Grand Ave|Chicago|   IL|60639|http://home.chica...|312-746-8605|312-746-4353|312-746-8383| 1138770.871| 1913442.439|41.91860889|-87.76557448|(41.9186088912, -...|\n",
       "|11645836|   JC212333|05/01/2016 12:25:...| 055XX S ROCKWELL ST|1153|DECEPTIVE PRACTICE|FINANCIAL IDENTIT...|                NULL| false|   false| 824|       8|  15|            63|      11|2016|04/06/2019 04:04:...|  Chicago Lawn|      3420 W 63rd St|Chicago|   IL|60629|http://home.chica...|312-747-8730|312-747-8545|312-747-8116| 1154575.242| 1862672.049|41.77898719|-87.70886382|(41.778987189, -8...|\n",
       "|11645959|   JC211511|12/20/2018 04:00:...|  045XX N ALBANY AVE|2820|     OTHER OFFENSE|    TELEPHONE THREAT|           RESIDENCE| false|   false|1724|      17|  33|            14|     08A|2018|04/06/2019 04:04:...|   Albany Park|   4650 N Pulaski Rd|Chicago|   IL|60630|http://home.chica...|312-742-4410|312-742-5411|312-742-5451|  1148843.91| 1930801.058|41.96605342|-87.72811456|(41.9660534171, -...|\n",
       "|11645601|   JC212935|06/01/2014 12:01:...| 087XX S SANGAMON ST|1153|DECEPTIVE PRACTICE|FINANCIAL IDENTIT...|           RESIDENCE| false|   false|2222|      22|  21|            71|      11|2014|04/06/2019 04:04:...|   Morgan Park| 1900 W Monterey Ave|Chicago|   IL|60643|http://home.chica...|312-745-0710|312-745-0814|312-745-0569| 1165825.476| 1830851.333|41.69143478|-87.66852039|(41.6914347795, -...|\n",
       "|11646166|   JC213529|09/01/2018 12:01:...|082XX S INGLESIDE...|0810|             THEFT|           OVER $500|           RESIDENCE| false|    true| 631|       6|   8|            44|      06|2018|04/06/2019 04:04:...|       Gresham|   7808 S Halsted St|Chicago|   IL|60620|http://home.chica...|312-745-3617|312-745-3649|312-745-3639| 1172283.013| 1853022.646|41.75213684|-87.64422891|(41.7521368378, -...|\n",
       "|11645648|   JC212959|01/01/2018 08:00:...| 024XX N MONITOR AVE|1153|DECEPTIVE PRACTICE|FINANCIAL IDENTIT...|           RESIDENCE| false|   false|2515|      25|  30|            19|      11|2018|04/06/2019 04:04:...| Grand Central|    5555 W Grand Ave|Chicago|   IL|60639|http://home.chica...|312-746-8605|312-746-4353|312-746-8383| 1138770.871| 1913442.439|41.91860889|-87.76557448|(41.9186088912, -...|\n",
       "|11645557|   JC212685|04/01/2018 12:01:...|  080XX S VERNON AVE|1153|DECEPTIVE PRACTICE|FINANCIAL IDENTIT...|           RESIDENCE| false|   false| 631|       6|   6|            44|      11|2018|04/06/2019 04:04:...|       Gresham|   7808 S Halsted St|Chicago|   IL|60620|http://home.chica...|312-745-3617|312-745-3649|312-745-3639| 1172283.013| 1853022.646|41.75213684|-87.64422891|(41.7521368378, -...|\n",
       "|11645527|   JC212744|02/02/2015 10:00:...|  069XX W ARCHER AVE|1153|DECEPTIVE PRACTICE|FINANCIAL IDENTIT...|               OTHER| false|   false| 811|       8|  23|            56|      11|2015|04/06/2019 04:04:...|  Chicago Lawn|      3420 W 63rd St|Chicago|   IL|60629|http://home.chica...|312-747-8730|312-747-8545|312-747-8116| 1154575.242| 1862672.049|41.77898719|-87.70886382|(41.778987189, -8...|\n",
       "|11645833|   JC213044|05/05/2012 12:25:...|     057XX W OHIO ST|1153|DECEPTIVE PRACTICE|FINANCIAL IDENTIT...|                NULL| false|   false|1511|      15|  29|            25|      11|2012|04/06/2019 04:04:...|        Austin|   5701 W Madison St|Chicago|   IL|60644|http://home.chica...|312-743-1440|312-743-1366|312-743-1485| 1138148.815| 1899399.078|41.88008346|-87.76819989|(41.8800834614, -...|\n",
       "|11645568|   JC212803|12/18/2018 11:00:...|  032XX N WILTON AVE|1153|DECEPTIVE PRACTICE|FINANCIAL IDENTIT...|           RESIDENCE| false|   false|1924|      19|  44|             6|      11|2018|04/06/2019 04:04:...|     Town Hall|    850 W Addison St|Chicago|   IL|60613|http://home.chica...|312-744-8320|312-744-4481|312-744-8011| 1169730.744| 1924160.317|41.94740046|-87.65151202|(41.9474004564, -...|\n",
       "|12045583|   JD226426|05/07/2020 10:24:...| 035XX S INDIANA AVE|0820|             THEFT|      $500 AND UNDER|           APARTMENT| false|   false| 212|       2|   3|            35|      06|2020|05/14/2020 08:47:...|     Wentworth|5101 S Wentworth Ave|Chicago|   IL|60609|http://home.chica...|312-747-8366|312-747-5396|312-747-6656| 1175864.837| 1871153.753|41.80181109|-87.63056018|(41.8018110912, -...|\n",
       "|12031001|   JD209965|04/16/2020 05:00:...|     005XX W 32ND ST|0460|           BATTERY|              SIMPLE|           APARTMENT|  true|   false| 915|       9|  11|            60|     08B|2020|04/23/2020 03:45:...|       Deering|   3120 S Halsted St|Chicago|   IL|60608|http://home.chica...|312-747-8227|312-747-5329|312-747-9172|  1171440.24| 1884085.224|41.83739443|-87.64640771|(41.8373944311, -...|\n",
       "|12093529|   JD282112|07/01/2020 10:16:...|   081XX S COLES AVE|051A|           ASSAULT|AGGRAVATED - HANDGUN|              STREET|  true|   false| 422|       4|   7|            46|     04A|2020|07/08/2020 03:41:...| South Chicago|     2255 E 103rd St|Chicago|   IL|60617|http://home.chica...|312-747-7581|312-747-5276|312-747-9169| 1193131.299| 1837090.265|41.70793329|-87.56834912|(41.7079332906, -...|\n",
       "|12178140|   JD381597|09/27/2020 11:29:...| 065XX S WOLCOTT AVE|0460|           BATTERY|              SIMPLE|RESIDENCE - PORCH...| false|   false| 726|       7|  15|            67|     08B|2020|10/04/2020 03:43:...|     Englewood|      1438 W 63rd St|Chicago|   IL|60636|http://home.chica...|312-747-8223|312-747-6558|312-747-6652| 1167659.235| 1863005.522|41.77963154|-87.66088702|(41.7796315359, -...|\n",
       "| 4144897|   HL474854|07/10/2005 03:00:...| 062XX S ABERDEEN ST|0430|           BATTERY|AGGRAVATED: OTHER...|              STREET| false|   false| 712|       7|  16|            68|     04B|2005|02/28/2018 03:56:...|     Englewood|      1438 W 63rd St|Chicago|   IL|60636|http://home.chica...|312-747-8223|312-747-6558|312-747-6652| 1167659.235| 1863005.522|41.77963154|-87.66088702|(41.7796315359, -...|\n",
       "| 1744168|    G553545|09/15/2001 02:00:...|     013XX W POLK ST|0460|           BATTERY|              SIMPLE|              STREET| false|   false|1213|      12|NULL|          NULL|     08B|2001|08/17/2015 03:03:...|     Near West|1412 S Blue Islan...|   NULL| NULL| NULL|                NULL|        NULL|        NULL|        NULL|        NULL|        NULL|       NULL|        NULL|                NULL|\n",
       "|11641644|   JC207234|03/31/2019 09:30:...|   005XX N ogden ave|0890|             THEFT|       FROM BUILDING|          RESTAURANT| false|   false|1215|      12|   1|            24|      06|2019|04/07/2019 04:05:...|     Near West|1412 S Blue Islan...|   NULL| NULL| NULL|                NULL|        NULL|        NULL|        NULL|        NULL|        NULL|       NULL|        NULL|                NULL|\n",
       "|11615821|   JC176668|01/01/2016 12:00:...| 054XX N NATCHEZ AVE|1195|DECEPTIVE PRACTICE|FINAN EXPLOIT-ELD...|           RESIDENCE| false|    true|1613|      16|  45|            10|      11|2016|03/08/2019 04:36:...|Jefferson Park|5151 N Milwaukee Ave|Chicago|   IL|60630|http://home.chica...|312-742-4480|312-742-4421|312-742-4423| 1138480.758| 1933660.473|41.97409445|-87.76614884|(41.9740944511, -...|\n",
       "|12126129|   JD321064|08/04/2020 08:28:...| 081XX S LOOMIS BLVD|143A| WEAPONS VIOLATION|UNLAWFUL POSSESSI...|              STREET|  true|   false| 613|       6|  21|            71|      15|2020|08/11/2020 03:42:...|       Gresham|   7808 S Halsted St|Chicago|   IL|60620|http://home.chica...|312-745-3617|312-745-3649|312-745-3639| 1172283.013| 1853022.646|41.75213684|-87.64422891|(41.7521368378, -...|\n",
       "+--------+-----------+--------------------+--------------------+----+------------------+--------------------+--------------------+------+--------+----+--------+----+--------------+--------+----+--------------------+--------------+--------------------+-------+-----+-----+--------------------+------------+------------+------------+------------+------------+-----------+------------+--------------------+\n",
       "only showing top 20 rows"
      ]
     },
     "execution_count": 20,
     "metadata": {},
     "output_type": "execute_result"
    }
   ],
   "source": [
    "from pyspark.sql.functions import col\n",
    "\n",
    "columns_to_drop = ['X Coordinate', 'Y Coordinate', 'Latitude', 'Longitude', 'Location']\n",
    "\n",
    "df_final = df_spark.drop(*columns_to_drop)\n",
    "\n",
    "# Effectuer la jointure sur la colonne 'District'\n",
    "df_presque_final = df_final.join(df_police, df_final[\"District\"] == df_police[\"DISTRICT\"], \"inner\").drop(df_police.DISTRICT)\n",
    "\n",
    "# Afficher le DataFrame final\n",
    "df_presque_final\n"
   ]
  },
  {
   "cell_type": "code",
   "execution_count": 21,
   "id": "fbb22db3-2d4e-4896-90c4-7bc05e6d6f00",
   "metadata": {},
   "outputs": [],
   "source": [
    "#from pyspark.sql.functions import col\n",
    "# jointure sur district\n",
    "#df_presque_final = df_spark_2018.join(df_police, df_spark_2018[\"District\"] == df_police[\"DISTRICT\"], \"inner\").drop(df_police.DISTRICT)\n"
   ]
  },
  {
   "cell_type": "code",
   "execution_count": 24,
   "id": "4bdd6a24-8013-454c-aa8d-15583ea9760f",
   "metadata": {},
   "outputs": [
    {
     "data": {
      "text/plain": [
       "['ID',\n",
       " 'Case Number',\n",
       " 'Date',\n",
       " 'Block',\n",
       " 'IUCR',\n",
       " 'Primary Type',\n",
       " 'Description',\n",
       " 'Location Description',\n",
       " 'Arrest',\n",
       " 'Domestic',\n",
       " 'Beat',\n",
       " 'District',\n",
       " 'Ward',\n",
       " 'Community Area',\n",
       " 'FBI Code',\n",
       " 'Year',\n",
       " 'Updated On',\n",
       " 'DISTRICT NAME',\n",
       " 'ADDRESS',\n",
       " 'CITY',\n",
       " 'STATE',\n",
       " 'ZIP',\n",
       " 'WEBSITE',\n",
       " 'PHONE',\n",
       " 'FAX',\n",
       " 'TTY',\n",
       " 'X COORDINATE',\n",
       " 'Y COORDINATE',\n",
       " 'LATITUDE',\n",
       " 'LONGITUDE',\n",
       " 'LOCATION']"
      ]
     },
     "execution_count": 24,
     "metadata": {},
     "output_type": "execute_result"
    }
   ],
   "source": [
    "df_presque_final.columns"
   ]
  },
  {
   "cell_type": "code",
   "execution_count": null,
   "id": "7c8840b4-c29d-46ab-a417-6eac5725b504",
   "metadata": {},
   "outputs": [],
   "source": [
    "# Enregistrer le DataFrame en format CSV dans le dossier spécifique sous Windows\n",
    "# Convertir le DataFrame PySpark en DataFrame Pandas\n",
    "df_pandas = df_presque_final.toPandas()\n",
    "\n",
    "# Enregistrer le DataFrame Pandas en CSV\n",
    "df_pandas.to_csv(r'C:\\Users\\Mehdi\\Documents\\simplon_brief_data_eng\\Brief_6_PySpark\\PySpark\\data\\crime_station.csv', index=False)\n",
    "\n"
   ]
  },
  {
   "cell_type": "code",
   "execution_count": null,
   "id": "24f9cf13-e450-481c-854c-6b311bf9abad",
   "metadata": {},
   "outputs": [],
   "source": [
    "df_pandas.columns"
   ]
  },
  {
   "cell_type": "code",
   "execution_count": null,
   "id": "a23da7b1-e42e-4110-8ea7-d6b032fa9189",
   "metadata": {},
   "outputs": [],
   "source": []
  }
 ],
 "metadata": {
  "colab": {
   "provenance": []
  },
  "kernelspec": {
   "display_name": "Python 3 (ipykernel)",
   "language": "python",
   "name": "python3"
  },
  "language_info": {
   "codemirror_mode": {
    "name": "ipython",
    "version": 3
   },
   "file_extension": ".py",
   "mimetype": "text/x-python",
   "name": "python",
   "nbconvert_exporter": "python",
   "pygments_lexer": "ipython3",
   "version": "3.9.19"
  }
 },
 "nbformat": 4,
 "nbformat_minor": 5
}
